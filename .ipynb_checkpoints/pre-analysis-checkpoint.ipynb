{
 "cells": [
  {
   "cell_type": "code",
   "execution_count": 1,
   "id": "df6e1b63",
   "metadata": {},
   "outputs": [],
   "source": [
    "import pandas as pd\n",
    "import numpy as np"
   ]
  },
  {
   "cell_type": "code",
   "execution_count": 2,
   "id": "16d8a2a5",
   "metadata": {},
   "outputs": [],
   "source": [
    "sp500_quotes = pd.read_csv('sp500_quotes_clean_v1.csv')"
   ]
  },
  {
   "cell_type": "code",
   "execution_count": 3,
   "id": "caa61d88",
   "metadata": {},
   "outputs": [
    {
     "data": {
      "text/html": [
       "<div>\n",
       "<style scoped>\n",
       "    .dataframe tbody tr th:only-of-type {\n",
       "        vertical-align: middle;\n",
       "    }\n",
       "\n",
       "    .dataframe tbody tr th {\n",
       "        vertical-align: top;\n",
       "    }\n",
       "\n",
       "    .dataframe thead th {\n",
       "        text-align: right;\n",
       "    }\n",
       "</style>\n",
       "<table border=\"1\" class=\"dataframe\">\n",
       "  <thead>\n",
       "    <tr style=\"text-align: right;\">\n",
       "      <th></th>\n",
       "      <th>Unnamed: 0</th>\n",
       "      <th>date</th>\n",
       "      <th>open_price</th>\n",
       "      <th>close_price</th>\n",
       "      <th>volume</th>\n",
       "      <th>symbol</th>\n",
       "    </tr>\n",
       "  </thead>\n",
       "  <tbody>\n",
       "    <tr>\n",
       "      <th>0</th>\n",
       "      <td>32</td>\n",
       "      <td>2016-04-01</td>\n",
       "      <td>39.56</td>\n",
       "      <td>40.31</td>\n",
       "      <td>2857844</td>\n",
       "      <td>A</td>\n",
       "    </tr>\n",
       "    <tr>\n",
       "      <th>1</th>\n",
       "      <td>33</td>\n",
       "      <td>2016-04-04</td>\n",
       "      <td>40.33</td>\n",
       "      <td>40.01</td>\n",
       "      <td>2958061</td>\n",
       "      <td>A</td>\n",
       "    </tr>\n",
       "    <tr>\n",
       "      <th>2</th>\n",
       "      <td>34</td>\n",
       "      <td>2016-04-05</td>\n",
       "      <td>39.73</td>\n",
       "      <td>39.26</td>\n",
       "      <td>1900659</td>\n",
       "      <td>A</td>\n",
       "    </tr>\n",
       "    <tr>\n",
       "      <th>3</th>\n",
       "      <td>35</td>\n",
       "      <td>2016-04-06</td>\n",
       "      <td>39.17</td>\n",
       "      <td>40.24</td>\n",
       "      <td>1566612</td>\n",
       "      <td>A</td>\n",
       "    </tr>\n",
       "    <tr>\n",
       "      <th>4</th>\n",
       "      <td>36</td>\n",
       "      <td>2016-04-07</td>\n",
       "      <td>39.70</td>\n",
       "      <td>39.47</td>\n",
       "      <td>1373839</td>\n",
       "      <td>A</td>\n",
       "    </tr>\n",
       "    <tr>\n",
       "      <th>...</th>\n",
       "      <td>...</td>\n",
       "      <td>...</td>\n",
       "      <td>...</td>\n",
       "      <td>...</td>\n",
       "      <td>...</td>\n",
       "      <td>...</td>\n",
       "    </tr>\n",
       "    <tr>\n",
       "      <th>598296</th>\n",
       "      <td>7794326</td>\n",
       "      <td>2020-12-24</td>\n",
       "      <td>159.92</td>\n",
       "      <td>160.72</td>\n",
       "      <td>417444</td>\n",
       "      <td>ZTS</td>\n",
       "    </tr>\n",
       "    <tr>\n",
       "      <th>598297</th>\n",
       "      <td>7794327</td>\n",
       "      <td>2020-12-28</td>\n",
       "      <td>161.44</td>\n",
       "      <td>162.39</td>\n",
       "      <td>1522435</td>\n",
       "      <td>ZTS</td>\n",
       "    </tr>\n",
       "    <tr>\n",
       "      <th>598298</th>\n",
       "      <td>7794328</td>\n",
       "      <td>2020-12-29</td>\n",
       "      <td>163.21</td>\n",
       "      <td>163.12</td>\n",
       "      <td>1188357</td>\n",
       "      <td>ZTS</td>\n",
       "    </tr>\n",
       "    <tr>\n",
       "      <th>598299</th>\n",
       "      <td>7794329</td>\n",
       "      <td>2020-12-30</td>\n",
       "      <td>163.51</td>\n",
       "      <td>164.27</td>\n",
       "      <td>1008988</td>\n",
       "      <td>ZTS</td>\n",
       "    </tr>\n",
       "    <tr>\n",
       "      <th>598300</th>\n",
       "      <td>7794330</td>\n",
       "      <td>2020-12-31</td>\n",
       "      <td>164.50</td>\n",
       "      <td>165.50</td>\n",
       "      <td>1292649</td>\n",
       "      <td>ZTS</td>\n",
       "    </tr>\n",
       "  </tbody>\n",
       "</table>\n",
       "<p>598301 rows × 6 columns</p>\n",
       "</div>"
      ],
      "text/plain": [
       "        Unnamed: 0        date  open_price  close_price   volume symbol\n",
       "0               32  2016-04-01       39.56        40.31  2857844      A\n",
       "1               33  2016-04-04       40.33        40.01  2958061      A\n",
       "2               34  2016-04-05       39.73        39.26  1900659      A\n",
       "3               35  2016-04-06       39.17        40.24  1566612      A\n",
       "4               36  2016-04-07       39.70        39.47  1373839      A\n",
       "...            ...         ...         ...          ...      ...    ...\n",
       "598296     7794326  2020-12-24      159.92       160.72   417444    ZTS\n",
       "598297     7794327  2020-12-28      161.44       162.39  1522435    ZTS\n",
       "598298     7794328  2020-12-29      163.21       163.12  1188357    ZTS\n",
       "598299     7794329  2020-12-30      163.51       164.27  1008988    ZTS\n",
       "598300     7794330  2020-12-31      164.50       165.50  1292649    ZTS\n",
       "\n",
       "[598301 rows x 6 columns]"
      ]
     },
     "execution_count": 3,
     "metadata": {},
     "output_type": "execute_result"
    }
   ],
   "source": [
    "sp500_quotes"
   ]
  },
  {
   "cell_type": "code",
   "execution_count": 4,
   "id": "e74ec072",
   "metadata": {},
   "outputs": [],
   "source": [
    "sp500_quotes=sp500_quotes.drop(['Unnamed: 0'], axis=1)"
   ]
  },
  {
   "cell_type": "code",
   "execution_count": 5,
   "id": "1723a9f4",
   "metadata": {},
   "outputs": [],
   "source": [
    "def year_quarter (date):\n",
    "    quarter=''\n",
    "    year,month,day=date.split('-')\n",
    "    if month in ['01', '02', '03']:\n",
    "        quarter='1'\n",
    "    elif month in ['04', '05', '06']:\n",
    "        quarter='2'\n",
    "    elif month in ['07', '08', '09']:\n",
    "        quarter='3'\n",
    "    else:\n",
    "        quarter='4'\n",
    "    return year+'Q'+quarter"
   ]
  },
  {
   "cell_type": "code",
   "execution_count": 6,
   "id": "932f1e0f",
   "metadata": {},
   "outputs": [],
   "source": [
    "sp500_quotes['period']=sp500_quotes['date'].apply(lambda x :year_quarter(x))"
   ]
  },
  {
   "cell_type": "code",
   "execution_count": 7,
   "id": "e23d7c43",
   "metadata": {},
   "outputs": [
    {
     "data": {
      "text/plain": [
       "array(['2016Q2', '2016Q3', '2016Q4', '2017Q1', '2017Q2', '2017Q3',\n",
       "       '2017Q4', '2018Q1', '2018Q2', '2018Q3', '2018Q4', '2019Q1',\n",
       "       '2019Q2', '2019Q3', '2019Q4', '2020Q1', '2020Q2', '2020Q3',\n",
       "       '2020Q4'], dtype=object)"
      ]
     },
     "execution_count": 7,
     "metadata": {},
     "output_type": "execute_result"
    }
   ],
   "source": [
    "sp500_quotes['period'].unique()"
   ]
  },
  {
   "cell_type": "code",
   "execution_count": 8,
   "id": "f8604880",
   "metadata": {},
   "outputs": [],
   "source": [
    "periods=sp500_quotes['period'].unique().tolist()"
   ]
  },
  {
   "cell_type": "code",
   "execution_count": 9,
   "id": "a4b21f1b",
   "metadata": {},
   "outputs": [],
   "source": [
    "symbols=sp500_quotes['symbol'].unique().tolist()"
   ]
  },
  {
   "cell_type": "code",
   "execution_count": 10,
   "id": "45b496ed",
   "metadata": {},
   "outputs": [],
   "source": [
    "sp500_companies= pd.read_csv('sp500_companies.csv')"
   ]
  },
  {
   "cell_type": "code",
   "execution_count": 11,
   "id": "6bd48b0e",
   "metadata": {},
   "outputs": [],
   "source": [
    "sp500_companies = sp500_companies.drop(['SUB-INDUSTRY'], axis=1)\n",
    "cols = []\n",
    "for i in range(len(sp500_companies.columns)):\n",
    "    cols.append(sp500_companies.columns[i].lower())\n",
    "sp500_companies.columns = cols"
   ]
  },
  {
   "cell_type": "code",
   "execution_count": 12,
   "id": "5b9fe9a7",
   "metadata": {},
   "outputs": [],
   "source": [
    "data=sp500_companies.copy()"
   ]
  },
  {
   "cell_type": "code",
   "execution_count": 13,
   "id": "cdf22208",
   "metadata": {},
   "outputs": [
    {
     "data": {
      "text/html": [
       "<div>\n",
       "<style scoped>\n",
       "    .dataframe tbody tr th:only-of-type {\n",
       "        vertical-align: middle;\n",
       "    }\n",
       "\n",
       "    .dataframe tbody tr th {\n",
       "        vertical-align: top;\n",
       "    }\n",
       "\n",
       "    .dataframe thead th {\n",
       "        text-align: right;\n",
       "    }\n",
       "</style>\n",
       "<table border=\"1\" class=\"dataframe\">\n",
       "  <thead>\n",
       "    <tr style=\"text-align: right;\">\n",
       "      <th></th>\n",
       "      <th>symbol</th>\n",
       "      <th>company</th>\n",
       "      <th>sector</th>\n",
       "    </tr>\n",
       "  </thead>\n",
       "  <tbody>\n",
       "    <tr>\n",
       "      <th>0</th>\n",
       "      <td>A</td>\n",
       "      <td>Agilent Technologies</td>\n",
       "      <td>Health Care</td>\n",
       "    </tr>\n",
       "    <tr>\n",
       "      <th>1</th>\n",
       "      <td>AAL</td>\n",
       "      <td>American Airlines Group</td>\n",
       "      <td>Industrials</td>\n",
       "    </tr>\n",
       "    <tr>\n",
       "      <th>2</th>\n",
       "      <td>AAP</td>\n",
       "      <td>Advance Auto Parts</td>\n",
       "      <td>Consumer Discretionary</td>\n",
       "    </tr>\n",
       "    <tr>\n",
       "      <th>3</th>\n",
       "      <td>AAPL</td>\n",
       "      <td>Apple</td>\n",
       "      <td>Information Technology</td>\n",
       "    </tr>\n",
       "    <tr>\n",
       "      <th>4</th>\n",
       "      <td>ABBV</td>\n",
       "      <td>AbbVie</td>\n",
       "      <td>Health Care</td>\n",
       "    </tr>\n",
       "    <tr>\n",
       "      <th>...</th>\n",
       "      <td>...</td>\n",
       "      <td>...</td>\n",
       "      <td>...</td>\n",
       "    </tr>\n",
       "    <tr>\n",
       "      <th>494</th>\n",
       "      <td>YUM</td>\n",
       "      <td>Yum! Brands</td>\n",
       "      <td>Consumer Discretionary</td>\n",
       "    </tr>\n",
       "    <tr>\n",
       "      <th>495</th>\n",
       "      <td>ZBH</td>\n",
       "      <td>Zimmer Biomet</td>\n",
       "      <td>Health Care</td>\n",
       "    </tr>\n",
       "    <tr>\n",
       "      <th>496</th>\n",
       "      <td>ZBRA</td>\n",
       "      <td>Zebra Technologies</td>\n",
       "      <td>Information Technology</td>\n",
       "    </tr>\n",
       "    <tr>\n",
       "      <th>497</th>\n",
       "      <td>ZION</td>\n",
       "      <td>Zions Bancorp</td>\n",
       "      <td>Financials</td>\n",
       "    </tr>\n",
       "    <tr>\n",
       "      <th>498</th>\n",
       "      <td>ZTS</td>\n",
       "      <td>Zoetis</td>\n",
       "      <td>Health Care</td>\n",
       "    </tr>\n",
       "  </tbody>\n",
       "</table>\n",
       "<p>499 rows × 3 columns</p>\n",
       "</div>"
      ],
      "text/plain": [
       "    symbol                  company                  sector\n",
       "0        A     Agilent Technologies             Health Care\n",
       "1      AAL  American Airlines Group             Industrials\n",
       "2      AAP       Advance Auto Parts  Consumer Discretionary\n",
       "3     AAPL                    Apple  Information Technology\n",
       "4     ABBV                   AbbVie             Health Care\n",
       "..     ...                      ...                     ...\n",
       "494    YUM              Yum! Brands  Consumer Discretionary\n",
       "495    ZBH            Zimmer Biomet             Health Care\n",
       "496   ZBRA       Zebra Technologies  Information Technology\n",
       "497   ZION            Zions Bancorp              Financials\n",
       "498    ZTS                   Zoetis             Health Care\n",
       "\n",
       "[499 rows x 3 columns]"
      ]
     },
     "execution_count": 13,
     "metadata": {},
     "output_type": "execute_result"
    }
   ],
   "source": [
    "missing_companies=['BBWI', 'BF.B', 'BRK.B', 'CTRA', 'OGN', 'WTW']\n",
    "data=data[~data['symbol'].isin(['BBWI', 'BF.B', 'BRK.B', 'CTRA', 'OGN', 'WTW'])]\n",
    "data=data.reset_index(drop=True)\n",
    "data"
   ]
  },
  {
   "cell_type": "code",
   "execution_count": 14,
   "id": "8a8c2954",
   "metadata": {},
   "outputs": [
    {
     "name": "stdout",
     "output_type": "stream",
     "text": [
      "1\n"
     ]
    },
    {
     "name": "stderr",
     "output_type": "stream",
     "text": [
      "C:\\Users\\Usuario\\AppData\\Local\\Temp/ipykernel_5104/969954688.py:18: SettingWithCopyWarning: \n",
      "A value is trying to be set on a copy of a slice from a DataFrame.\n",
      "Try using .loc[row_indexer,col_indexer] = value instead\n",
      "\n",
      "See the caveats in the documentation: https://pandas.pydata.org/pandas-docs/stable/user_guide/indexing.html#returning-a-view-versus-a-copy\n",
      "  data_temp['money']=data_temp['volume']*(data_temp['open_price']+data_temp['close_price'])/2\n"
     ]
    },
    {
     "name": "stdout",
     "output_type": "stream",
     "text": [
      "2\n",
      "3\n",
      "4\n",
      "5\n",
      "6\n",
      "7\n",
      "8\n",
      "9\n",
      "10\n",
      "11\n",
      "12\n",
      "13\n",
      "14\n",
      "15\n",
      "16\n",
      "17\n"
     ]
    },
    {
     "name": "stderr",
     "output_type": "stream",
     "text": [
      "C:\\Users\\Usuario\\AppData\\Local\\Temp/ipykernel_5104/969954688.py:36: PerformanceWarning: DataFrame is highly fragmented.  This is usually the result of calling `frame.insert` many times, which has poor performance.  Consider joining all columns at once using pd.concat(axis=1) instead.  To get a de-fragmented frame, use `newframe = frame.copy()`\n",
      "  data[col_price_change]=period_price_change\n"
     ]
    },
    {
     "name": "stdout",
     "output_type": "stream",
     "text": [
      "18\n"
     ]
    },
    {
     "name": "stderr",
     "output_type": "stream",
     "text": [
      "C:\\Users\\Usuario\\AppData\\Local\\Temp/ipykernel_5104/969954688.py:27: PerformanceWarning: DataFrame is highly fragmented.  This is usually the result of calling `frame.insert` many times, which has poor performance.  Consider joining all columns at once using pd.concat(axis=1) instead.  To get a de-fragmented frame, use `newframe = frame.copy()`\n",
      "  data[col_weight]= period_volume_dollars/sum(period_volume_dollars)\n",
      "C:\\Users\\Usuario\\AppData\\Local\\Temp/ipykernel_5104/969954688.py:28: PerformanceWarning: DataFrame is highly fragmented.  This is usually the result of calling `frame.insert` many times, which has poor performance.  Consider joining all columns at once using pd.concat(axis=1) instead.  To get a de-fragmented frame, use `newframe = frame.copy()`\n",
      "  data[col_vol_shares]=period_volume_shares\n",
      "C:\\Users\\Usuario\\AppData\\Local\\Temp/ipykernel_5104/969954688.py:31: PerformanceWarning: DataFrame is highly fragmented.  This is usually the result of calling `frame.insert` many times, which has poor performance.  Consider joining all columns at once using pd.concat(axis=1) instead.  To get a de-fragmented frame, use `newframe = frame.copy()`\n",
      "  data[col_vol_shares_change]=round(100*(data[col_vol_shares]-data[col_prev_volume_shares])/data[col_prev_volume_shares],3)\n",
      "C:\\Users\\Usuario\\AppData\\Local\\Temp/ipykernel_5104/969954688.py:32: PerformanceWarning: DataFrame is highly fragmented.  This is usually the result of calling `frame.insert` many times, which has poor performance.  Consider joining all columns at once using pd.concat(axis=1) instead.  To get a de-fragmented frame, use `newframe = frame.copy()`\n",
      "  data[col_vol_dollars]=period_volume_dollars\n",
      "C:\\Users\\Usuario\\AppData\\Local\\Temp/ipykernel_5104/969954688.py:35: PerformanceWarning: DataFrame is highly fragmented.  This is usually the result of calling `frame.insert` many times, which has poor performance.  Consider joining all columns at once using pd.concat(axis=1) instead.  To get a de-fragmented frame, use `newframe = frame.copy()`\n",
      "  data[col_vol_change]=round(100*(data[col_vol_dollars]-data[col_prev_volume_dollars])/data[col_prev_volume_dollars],3)\n"
     ]
    },
    {
     "name": "stdout",
     "output_type": "stream",
     "text": [
      "19\n"
     ]
    }
   ],
   "source": [
    "cont=0\n",
    "for per in range(len(periods)):\n",
    "    cont+=1\n",
    "    print(cont)\n",
    "    period_volume_shares=[]\n",
    "    period_volume_change=[]\n",
    "    period_volume_dollars=[]\n",
    "    period_volume_dollars_change=[]\n",
    "    period_price_change=[]\n",
    "    col_weight=periods[per]+'_weight'\n",
    "    col_vol_shares=periods[per]+'_vol_shares'\n",
    "    col_vol_shares_change=periods[per]+'_vol_shares_change'\n",
    "    col_vol_dollars=periods[per]+'_vol_$'\n",
    "    col_vol_change=periods[per]+'_vol_$_change'\n",
    "    col_price_change=periods[per]+'_price_change'\n",
    "    for symbol in symbols:\n",
    "        data_temp=sp500_quotes[(sp500_quotes['symbol']==symbol) & (sp500_quotes['period']==periods[per])]\n",
    "        data_temp['money']=data_temp['volume']*(data_temp['open_price']+data_temp['close_price'])/2\n",
    "        volume_shares=data_temp['volume'].sum()\n",
    "        volume_dollars=data_temp['money'].sum()\n",
    "        open_period=data_temp[data_temp['date']==data_temp['date'].min()]['open_price']\n",
    "        close_period=data_temp[data_temp['date']==data_temp['date'].max()]['close_price']\n",
    "        price_change=round(100*(list(close_period)[0]-list(open_period)[0])/list(open_period)[0], 3)\n",
    "        period_volume_shares.append(volume_shares)\n",
    "        period_volume_dollars.append(volume_dollars)\n",
    "        period_price_change.append(price_change)\n",
    "    data[col_weight]= period_volume_dollars/sum(period_volume_dollars)\n",
    "    data[col_vol_shares]=period_volume_shares\n",
    "    if cont>1:\n",
    "        col_prev_volume_shares=periods[per-1]+'_vol_shares'\n",
    "        data[col_vol_shares_change]=round(100*(data[col_vol_shares]-data[col_prev_volume_shares])/data[col_prev_volume_shares],3)\n",
    "    data[col_vol_dollars]=period_volume_dollars\n",
    "    if cont>1:\n",
    "        col_prev_volume_dollars=periods[per-1]+'_vol_$'\n",
    "        data[col_vol_change]=round(100*(data[col_vol_dollars]-data[col_prev_volume_dollars])/data[col_prev_volume_dollars],3)\n",
    "    data[col_price_change]=period_price_change"
   ]
  },
  {
   "cell_type": "code",
   "execution_count": 15,
   "id": "fb79bfd0",
   "metadata": {},
   "outputs": [
    {
     "data": {
      "text/html": [
       "<div>\n",
       "<style scoped>\n",
       "    .dataframe tbody tr th:only-of-type {\n",
       "        vertical-align: middle;\n",
       "    }\n",
       "\n",
       "    .dataframe tbody tr th {\n",
       "        vertical-align: top;\n",
       "    }\n",
       "\n",
       "    .dataframe thead th {\n",
       "        text-align: right;\n",
       "    }\n",
       "</style>\n",
       "<table border=\"1\" class=\"dataframe\">\n",
       "  <thead>\n",
       "    <tr style=\"text-align: right;\">\n",
       "      <th></th>\n",
       "      <th>symbol</th>\n",
       "      <th>company</th>\n",
       "      <th>sector</th>\n",
       "      <th>2016Q2_weight</th>\n",
       "      <th>2016Q2_vol_shares</th>\n",
       "      <th>2016Q2_vol_$</th>\n",
       "      <th>2016Q2_price_change</th>\n",
       "      <th>2016Q3_weight</th>\n",
       "      <th>2016Q3_vol_shares</th>\n",
       "      <th>2016Q3_vol_shares_change</th>\n",
       "      <th>...</th>\n",
       "      <th>2020Q3_vol_shares_change</th>\n",
       "      <th>2020Q3_vol_$</th>\n",
       "      <th>2020Q3_vol_$_change</th>\n",
       "      <th>2020Q3_price_change</th>\n",
       "      <th>2020Q4_weight</th>\n",
       "      <th>2020Q4_vol_shares</th>\n",
       "      <th>2020Q4_vol_shares_change</th>\n",
       "      <th>2020Q4_vol_$</th>\n",
       "      <th>2020Q4_vol_$_change</th>\n",
       "      <th>2020Q4_price_change</th>\n",
       "    </tr>\n",
       "  </thead>\n",
       "  <tbody>\n",
       "    <tr>\n",
       "      <th>0</th>\n",
       "      <td>A</td>\n",
       "      <td>Agilent Technologies</td>\n",
       "      <td>Health Care</td>\n",
       "      <td>0.000869</td>\n",
       "      <td>140281524</td>\n",
       "      <td>6.084121e+09</td>\n",
       "      <td>12.133</td>\n",
       "      <td>0.000830</td>\n",
       "      <td>118778364</td>\n",
       "      <td>-15.329</td>\n",
       "      <td>...</td>\n",
       "      <td>-32.749</td>\n",
       "      <td>8.392700e+09</td>\n",
       "      <td>-20.573</td>\n",
       "      <td>13.556</td>\n",
       "      <td>0.000780</td>\n",
       "      <td>98796117</td>\n",
       "      <td>13.565</td>\n",
       "      <td>1.106780e+10</td>\n",
       "      <td>31.874</td>\n",
       "      <td>16.429</td>\n",
       "    </tr>\n",
       "    <tr>\n",
       "      <th>1</th>\n",
       "      <td>AAL</td>\n",
       "      <td>American Airlines Group</td>\n",
       "      <td>Industrials</td>\n",
       "      <td>0.003246</td>\n",
       "      <td>685350162</td>\n",
       "      <td>2.272491e+10</td>\n",
       "      <td>-29.454</td>\n",
       "      <td>0.003095</td>\n",
       "      <td>591804177</td>\n",
       "      <td>-13.649</td>\n",
       "      <td>...</td>\n",
       "      <td>-30.518</td>\n",
       "      <td>5.472012e+10</td>\n",
       "      <td>-33.943</td>\n",
       "      <td>-8.828</td>\n",
       "      <td>0.004914</td>\n",
       "      <td>4911375699</td>\n",
       "      <td>13.454</td>\n",
       "      <td>6.975285e+10</td>\n",
       "      <td>27.472</td>\n",
       "      <td>26.667</td>\n",
       "    </tr>\n",
       "    <tr>\n",
       "      <th>2</th>\n",
       "      <td>AAP</td>\n",
       "      <td>Advance Auto Parts</td>\n",
       "      <td>Consumer Discretionary</td>\n",
       "      <td>0.001480</td>\n",
       "      <td>67952248</td>\n",
       "      <td>1.035643e+10</td>\n",
       "      <td>0.956</td>\n",
       "      <td>0.001575</td>\n",
       "      <td>65941792</td>\n",
       "      <td>-2.959</td>\n",
       "      <td>...</td>\n",
       "      <td>-20.187</td>\n",
       "      <td>7.863110e+09</td>\n",
       "      <td>-4.278</td>\n",
       "      <td>7.825</td>\n",
       "      <td>0.000626</td>\n",
       "      <td>57630158</td>\n",
       "      <td>10.837</td>\n",
       "      <td>8.879801e+09</td>\n",
       "      <td>12.930</td>\n",
       "      <td>2.572</td>\n",
       "    </tr>\n",
       "    <tr>\n",
       "      <th>3</th>\n",
       "      <td>AAPL</td>\n",
       "      <td>Apple</td>\n",
       "      <td>Information Technology</td>\n",
       "      <td>0.035973</td>\n",
       "      <td>10216634504</td>\n",
       "      <td>2.518075e+11</td>\n",
       "      <td>-12.116</td>\n",
       "      <td>0.036441</td>\n",
       "      <td>9144019672</td>\n",
       "      <td>-10.499</td>\n",
       "      <td>...</td>\n",
       "      <td>17.831</td>\n",
       "      <td>1.219853e+12</td>\n",
       "      <td>69.405</td>\n",
       "      <td>26.873</td>\n",
       "      <td>0.062169</td>\n",
       "      <td>7341985215</td>\n",
       "      <td>-33.118</td>\n",
       "      <td>8.825345e+11</td>\n",
       "      <td>-27.652</td>\n",
       "      <td>12.793</td>\n",
       "    </tr>\n",
       "    <tr>\n",
       "      <th>4</th>\n",
       "      <td>ABBV</td>\n",
       "      <td>AbbVie</td>\n",
       "      <td>Health Care</td>\n",
       "      <td>0.004862</td>\n",
       "      <td>558100261</td>\n",
       "      <td>3.403161e+10</td>\n",
       "      <td>9.420</td>\n",
       "      <td>0.004282</td>\n",
       "      <td>441785352</td>\n",
       "      <td>-20.841</td>\n",
       "      <td>...</td>\n",
       "      <td>-33.267</td>\n",
       "      <td>4.172285e+10</td>\n",
       "      <td>-28.522</td>\n",
       "      <td>-11.076</td>\n",
       "      <td>0.003482</td>\n",
       "      <td>516898371</td>\n",
       "      <td>16.413</td>\n",
       "      <td>4.942422e+10</td>\n",
       "      <td>18.458</td>\n",
       "      <td>21.527</td>\n",
       "    </tr>\n",
       "    <tr>\n",
       "      <th>...</th>\n",
       "      <td>...</td>\n",
       "      <td>...</td>\n",
       "      <td>...</td>\n",
       "      <td>...</td>\n",
       "      <td>...</td>\n",
       "      <td>...</td>\n",
       "      <td>...</td>\n",
       "      <td>...</td>\n",
       "      <td>...</td>\n",
       "      <td>...</td>\n",
       "      <td>...</td>\n",
       "      <td>...</td>\n",
       "      <td>...</td>\n",
       "      <td>...</td>\n",
       "      <td>...</td>\n",
       "      <td>...</td>\n",
       "      <td>...</td>\n",
       "      <td>...</td>\n",
       "      <td>...</td>\n",
       "      <td>...</td>\n",
       "      <td>...</td>\n",
       "    </tr>\n",
       "    <tr>\n",
       "      <th>494</th>\n",
       "      <td>YUM</td>\n",
       "      <td>Yum! Brands</td>\n",
       "      <td>Consumer Discretionary</td>\n",
       "      <td>0.002157</td>\n",
       "      <td>263672978</td>\n",
       "      <td>1.510069e+10</td>\n",
       "      <td>2.522</td>\n",
       "      <td>0.002489</td>\n",
       "      <td>268424732</td>\n",
       "      <td>1.802</td>\n",
       "      <td>...</td>\n",
       "      <td>-41.037</td>\n",
       "      <td>9.463629e+09</td>\n",
       "      <td>-36.270</td>\n",
       "      <td>4.738</td>\n",
       "      <td>0.000724</td>\n",
       "      <td>100457103</td>\n",
       "      <td>-2.143</td>\n",
       "      <td>1.027632e+10</td>\n",
       "      <td>8.588</td>\n",
       "      <td>17.808</td>\n",
       "    </tr>\n",
       "    <tr>\n",
       "      <th>495</th>\n",
       "      <td>ZBH</td>\n",
       "      <td>Zimmer Biomet</td>\n",
       "      <td>Health Care</td>\n",
       "      <td>0.001776</td>\n",
       "      <td>106707042</td>\n",
       "      <td>1.242929e+10</td>\n",
       "      <td>13.012</td>\n",
       "      <td>0.001508</td>\n",
       "      <td>79198215</td>\n",
       "      <td>-25.780</td>\n",
       "      <td>...</td>\n",
       "      <td>-34.625</td>\n",
       "      <td>9.259358e+09</td>\n",
       "      <td>-25.869</td>\n",
       "      <td>13.639</td>\n",
       "      <td>0.000697</td>\n",
       "      <td>67987863</td>\n",
       "      <td>-2.176</td>\n",
       "      <td>9.894502e+09</td>\n",
       "      <td>6.859</td>\n",
       "      <td>12.360</td>\n",
       "    </tr>\n",
       "    <tr>\n",
       "      <th>496</th>\n",
       "      <td>ZBRA</td>\n",
       "      <td>Zebra Technologies</td>\n",
       "      <td>Information Technology</td>\n",
       "      <td>0.000410</td>\n",
       "      <td>51095977</td>\n",
       "      <td>2.867655e+09</td>\n",
       "      <td>-26.237</td>\n",
       "      <td>0.000337</td>\n",
       "      <td>37395790</td>\n",
       "      <td>-26.813</td>\n",
       "      <td>...</td>\n",
       "      <td>-24.314</td>\n",
       "      <td>5.146935e+09</td>\n",
       "      <td>-12.291</td>\n",
       "      <td>-1.564</td>\n",
       "      <td>0.000550</td>\n",
       "      <td>23037423</td>\n",
       "      <td>20.148</td>\n",
       "      <td>7.811480e+09</td>\n",
       "      <td>51.770</td>\n",
       "      <td>49.655</td>\n",
       "    </tr>\n",
       "    <tr>\n",
       "      <th>497</th>\n",
       "      <td>ZION</td>\n",
       "      <td>Zions Bancorp</td>\n",
       "      <td>Financials</td>\n",
       "      <td>0.000769</td>\n",
       "      <td>203548765</td>\n",
       "      <td>5.383679e+09</td>\n",
       "      <td>4.231</td>\n",
       "      <td>0.000842</td>\n",
       "      <td>199391931</td>\n",
       "      <td>-2.042</td>\n",
       "      <td>...</td>\n",
       "      <td>-46.380</td>\n",
       "      <td>3.319119e+09</td>\n",
       "      <td>-45.111</td>\n",
       "      <td>-13.882</td>\n",
       "      <td>0.000340</td>\n",
       "      <td>130829197</td>\n",
       "      <td>27.055</td>\n",
       "      <td>4.820585e+09</td>\n",
       "      <td>45.237</td>\n",
       "      <td>48.665</td>\n",
       "    </tr>\n",
       "    <tr>\n",
       "      <th>498</th>\n",
       "      <td>ZTS</td>\n",
       "      <td>Zoetis</td>\n",
       "      <td>Health Care</td>\n",
       "      <td>0.001595</td>\n",
       "      <td>237548740</td>\n",
       "      <td>1.116547e+10</td>\n",
       "      <td>7.935</td>\n",
       "      <td>0.001567</td>\n",
       "      <td>206268952</td>\n",
       "      <td>-13.168</td>\n",
       "      <td>...</td>\n",
       "      <td>-31.211</td>\n",
       "      <td>1.453658e+10</td>\n",
       "      <td>-18.329</td>\n",
       "      <td>20.453</td>\n",
       "      <td>0.001255</td>\n",
       "      <td>109299381</td>\n",
       "      <td>15.826</td>\n",
       "      <td>1.781338e+10</td>\n",
       "      <td>22.542</td>\n",
       "      <td>-0.439</td>\n",
       "    </tr>\n",
       "  </tbody>\n",
       "</table>\n",
       "<p>499 rows × 115 columns</p>\n",
       "</div>"
      ],
      "text/plain": [
       "    symbol                  company                  sector  2016Q2_weight  \\\n",
       "0        A     Agilent Technologies             Health Care       0.000869   \n",
       "1      AAL  American Airlines Group             Industrials       0.003246   \n",
       "2      AAP       Advance Auto Parts  Consumer Discretionary       0.001480   \n",
       "3     AAPL                    Apple  Information Technology       0.035973   \n",
       "4     ABBV                   AbbVie             Health Care       0.004862   \n",
       "..     ...                      ...                     ...            ...   \n",
       "494    YUM              Yum! Brands  Consumer Discretionary       0.002157   \n",
       "495    ZBH            Zimmer Biomet             Health Care       0.001776   \n",
       "496   ZBRA       Zebra Technologies  Information Technology       0.000410   \n",
       "497   ZION            Zions Bancorp              Financials       0.000769   \n",
       "498    ZTS                   Zoetis             Health Care       0.001595   \n",
       "\n",
       "     2016Q2_vol_shares  2016Q2_vol_$  2016Q2_price_change  2016Q3_weight  \\\n",
       "0            140281524  6.084121e+09               12.133       0.000830   \n",
       "1            685350162  2.272491e+10              -29.454       0.003095   \n",
       "2             67952248  1.035643e+10                0.956       0.001575   \n",
       "3          10216634504  2.518075e+11              -12.116       0.036441   \n",
       "4            558100261  3.403161e+10                9.420       0.004282   \n",
       "..                 ...           ...                  ...            ...   \n",
       "494          263672978  1.510069e+10                2.522       0.002489   \n",
       "495          106707042  1.242929e+10               13.012       0.001508   \n",
       "496           51095977  2.867655e+09              -26.237       0.000337   \n",
       "497          203548765  5.383679e+09                4.231       0.000842   \n",
       "498          237548740  1.116547e+10                7.935       0.001567   \n",
       "\n",
       "     2016Q3_vol_shares  2016Q3_vol_shares_change  ...  \\\n",
       "0            118778364                   -15.329  ...   \n",
       "1            591804177                   -13.649  ...   \n",
       "2             65941792                    -2.959  ...   \n",
       "3           9144019672                   -10.499  ...   \n",
       "4            441785352                   -20.841  ...   \n",
       "..                 ...                       ...  ...   \n",
       "494          268424732                     1.802  ...   \n",
       "495           79198215                   -25.780  ...   \n",
       "496           37395790                   -26.813  ...   \n",
       "497          199391931                    -2.042  ...   \n",
       "498          206268952                   -13.168  ...   \n",
       "\n",
       "     2020Q3_vol_shares_change  2020Q3_vol_$  2020Q3_vol_$_change  \\\n",
       "0                     -32.749  8.392700e+09              -20.573   \n",
       "1                     -30.518  5.472012e+10              -33.943   \n",
       "2                     -20.187  7.863110e+09               -4.278   \n",
       "3                      17.831  1.219853e+12               69.405   \n",
       "4                     -33.267  4.172285e+10              -28.522   \n",
       "..                        ...           ...                  ...   \n",
       "494                   -41.037  9.463629e+09              -36.270   \n",
       "495                   -34.625  9.259358e+09              -25.869   \n",
       "496                   -24.314  5.146935e+09              -12.291   \n",
       "497                   -46.380  3.319119e+09              -45.111   \n",
       "498                   -31.211  1.453658e+10              -18.329   \n",
       "\n",
       "     2020Q3_price_change  2020Q4_weight  2020Q4_vol_shares  \\\n",
       "0                 13.556       0.000780           98796117   \n",
       "1                 -8.828       0.004914         4911375699   \n",
       "2                  7.825       0.000626           57630158   \n",
       "3                 26.873       0.062169         7341985215   \n",
       "4                -11.076       0.003482          516898371   \n",
       "..                   ...            ...                ...   \n",
       "494                4.738       0.000724          100457103   \n",
       "495               13.639       0.000697           67987863   \n",
       "496               -1.564       0.000550           23037423   \n",
       "497              -13.882       0.000340          130829197   \n",
       "498               20.453       0.001255          109299381   \n",
       "\n",
       "     2020Q4_vol_shares_change  2020Q4_vol_$  2020Q4_vol_$_change  \\\n",
       "0                      13.565  1.106780e+10               31.874   \n",
       "1                      13.454  6.975285e+10               27.472   \n",
       "2                      10.837  8.879801e+09               12.930   \n",
       "3                     -33.118  8.825345e+11              -27.652   \n",
       "4                      16.413  4.942422e+10               18.458   \n",
       "..                        ...           ...                  ...   \n",
       "494                    -2.143  1.027632e+10                8.588   \n",
       "495                    -2.176  9.894502e+09                6.859   \n",
       "496                    20.148  7.811480e+09               51.770   \n",
       "497                    27.055  4.820585e+09               45.237   \n",
       "498                    15.826  1.781338e+10               22.542   \n",
       "\n",
       "     2020Q4_price_change  \n",
       "0                 16.429  \n",
       "1                 26.667  \n",
       "2                  2.572  \n",
       "3                 12.793  \n",
       "4                 21.527  \n",
       "..                   ...  \n",
       "494               17.808  \n",
       "495               12.360  \n",
       "496               49.655  \n",
       "497               48.665  \n",
       "498               -0.439  \n",
       "\n",
       "[499 rows x 115 columns]"
      ]
     },
     "execution_count": 15,
     "metadata": {},
     "output_type": "execute_result"
    }
   ],
   "source": [
    "data"
   ]
  },
  {
   "cell_type": "code",
   "execution_count": 23,
   "id": "28e7e54e",
   "metadata": {},
   "outputs": [],
   "source": [
    "import math\n",
    "data.replace([np.inf, - np.inf], np.nan, inplace = True)"
   ]
  },
  {
   "cell_type": "code",
   "execution_count": 26,
   "id": "7e4a20db",
   "metadata": {},
   "outputs": [
    {
     "data": {
      "text/plain": [
       "symbol                      0\n",
       "company                     0\n",
       "sector                      0\n",
       "2016Q2_weight               0\n",
       "2016Q2_vol_shares           0\n",
       "                           ..\n",
       "2020Q4_vol_shares           0\n",
       "2020Q4_vol_shares_change    0\n",
       "2020Q4_vol_$                0\n",
       "2020Q4_vol_$_change         0\n",
       "2020Q4_price_change         0\n",
       "Length: 115, dtype: int64"
      ]
     },
     "execution_count": 26,
     "metadata": {},
     "output_type": "execute_result"
    }
   ],
   "source": [
    "data.isna().sum()"
   ]
  },
  {
   "cell_type": "code",
   "execution_count": 25,
   "id": "aaa0258e",
   "metadata": {},
   "outputs": [],
   "source": [
    "for column in data.columns:\n",
    "    data[column] = data[column].fillna(0)"
   ]
  },
  {
   "cell_type": "code",
   "execution_count": null,
   "id": "dab108e6",
   "metadata": {},
   "outputs": [],
   "source": [
    "data.to_csv('sp500_by_company.csv')"
   ]
  },
  {
   "cell_type": "code",
   "execution_count": null,
   "id": "7757717d",
   "metadata": {},
   "outputs": [],
   "source": []
  },
  {
   "cell_type": "code",
   "execution_count": 1,
   "id": "685397dd",
   "metadata": {},
   "outputs": [],
   "source": [
    "import pandas as pd\n",
    "import numpy as np"
   ]
  },
  {
   "cell_type": "code",
   "execution_count": 2,
   "id": "54562252",
   "metadata": {},
   "outputs": [],
   "source": [
    "sp500_companies = pd.read_csv('sp500_by_company.csv')"
   ]
  },
  {
   "cell_type": "code",
   "execution_count": 3,
   "id": "eaedd10c",
   "metadata": {},
   "outputs": [],
   "source": [
    "sp500_by_sector = pd.DataFrame({'sector' : []})"
   ]
  },
  {
   "cell_type": "code",
   "execution_count": 4,
   "id": "605fe42e",
   "metadata": {},
   "outputs": [],
   "source": [
    "sp500_by_sector['sector']=sp500_companies['sector'].unique().tolist()"
   ]
  },
  {
   "cell_type": "code",
   "execution_count": 5,
   "id": "9e18f4bd",
   "metadata": {},
   "outputs": [
    {
     "data": {
      "text/html": [
       "<div>\n",
       "<style scoped>\n",
       "    .dataframe tbody tr th:only-of-type {\n",
       "        vertical-align: middle;\n",
       "    }\n",
       "\n",
       "    .dataframe tbody tr th {\n",
       "        vertical-align: top;\n",
       "    }\n",
       "\n",
       "    .dataframe thead th {\n",
       "        text-align: right;\n",
       "    }\n",
       "</style>\n",
       "<table border=\"1\" class=\"dataframe\">\n",
       "  <thead>\n",
       "    <tr style=\"text-align: right;\">\n",
       "      <th></th>\n",
       "      <th>sector</th>\n",
       "    </tr>\n",
       "  </thead>\n",
       "  <tbody>\n",
       "    <tr>\n",
       "      <th>0</th>\n",
       "      <td>Health Care</td>\n",
       "    </tr>\n",
       "    <tr>\n",
       "      <th>1</th>\n",
       "      <td>Industrials</td>\n",
       "    </tr>\n",
       "    <tr>\n",
       "      <th>2</th>\n",
       "      <td>Consumer Discretionary</td>\n",
       "    </tr>\n",
       "    <tr>\n",
       "      <th>3</th>\n",
       "      <td>Information Technology</td>\n",
       "    </tr>\n",
       "    <tr>\n",
       "      <th>4</th>\n",
       "      <td>Consumer Staples</td>\n",
       "    </tr>\n",
       "    <tr>\n",
       "      <th>5</th>\n",
       "      <td>Utilities</td>\n",
       "    </tr>\n",
       "    <tr>\n",
       "      <th>6</th>\n",
       "      <td>Financials</td>\n",
       "    </tr>\n",
       "    <tr>\n",
       "      <th>7</th>\n",
       "      <td>Materials</td>\n",
       "    </tr>\n",
       "    <tr>\n",
       "      <th>8</th>\n",
       "      <td>Real Estate</td>\n",
       "    </tr>\n",
       "    <tr>\n",
       "      <th>9</th>\n",
       "      <td>Energy</td>\n",
       "    </tr>\n",
       "    <tr>\n",
       "      <th>10</th>\n",
       "      <td>Communication Services</td>\n",
       "    </tr>\n",
       "  </tbody>\n",
       "</table>\n",
       "</div>"
      ],
      "text/plain": [
       "                    sector\n",
       "0              Health Care\n",
       "1              Industrials\n",
       "2   Consumer Discretionary\n",
       "3   Information Technology\n",
       "4         Consumer Staples\n",
       "5                Utilities\n",
       "6               Financials\n",
       "7                Materials\n",
       "8              Real Estate\n",
       "9                   Energy\n",
       "10  Communication Services"
      ]
     },
     "execution_count": 5,
     "metadata": {},
     "output_type": "execute_result"
    }
   ],
   "source": [
    "sp500_by_sector"
   ]
  },
  {
   "cell_type": "code",
   "execution_count": 6,
   "id": "28c4854c",
   "metadata": {},
   "outputs": [],
   "source": [
    "periods=['2016Q2', '2016Q3', '2016Q4', '2017Q1', '2017Q2', '2017Q3',\n",
    "       '2017Q4', '2018Q1', '2018Q2', '2018Q3', '2018Q4', '2019Q1',\n",
    "       '2019Q2', '2019Q3', '2019Q4', '2020Q1', '2020Q2', '2020Q3',\n",
    "       '2020Q4']"
   ]
  },
  {
   "cell_type": "code",
   "execution_count": 7,
   "id": "4246fbc8",
   "metadata": {},
   "outputs": [],
   "source": [
    "# multiplying by weight\n",
    "for per in range(1,len(periods)):\n",
    "    sector_weight=[]\n",
    "    money_change=[]\n",
    "    price_change=[]\n",
    "    col_weight=periods[per]+'_weight'\n",
    "    col_vol_change=periods[per]+'_vol_$_change'\n",
    "    col_vol_change_new=periods[per]+'_vol_change'\n",
    "    col_price_change=periods[per]+'_price_change'\n",
    "    for sector in sp500_by_sector['sector']:\n",
    "        sector_temp=sp500_companies[sp500_companies['sector']==sector]\n",
    "        sector_weight.append(round(sum(sector_temp[col_weight]),4))\n",
    "        money_change.append(round(sum(sector_temp[col_weight]*sector_temp[col_vol_change]),4))\n",
    "        price_change.append(round(sum(sector_temp[col_weight]*sector_temp[col_price_change]),4))\n",
    "    sp500_by_sector[col_weight]= sector_weight \n",
    "    sp500_by_sector[col_vol_change_new]=money_change\n",
    "    sp500_by_sector[col_price_change]=price_change"
   ]
  },
  {
   "cell_type": "code",
   "execution_count": 8,
   "id": "1b75f4f5",
   "metadata": {},
   "outputs": [],
   "source": [
    "# not multiplying by weight\n",
    "for per in range(1,len(periods)):\n",
    "    sector_weight=[]\n",
    "    money_change=[]\n",
    "    price_change=[]\n",
    "    col_weight=periods[per]+'_weight'\n",
    "    col_vol_change=periods[per]+'_vol_$_change'\n",
    "    col_vol_change_new=periods[per]+'_vol_change'\n",
    "    col_price_change=periods[per]+'_price_change'\n",
    "    for sector in sp500_by_sector['sector']:\n",
    "        sector_temp=sp500_companies[sp500_companies['sector']==sector]\n",
    "    #    sector_weight.append(round(sum(sector_temp[col_weight]),4))\n",
    "        money_change.append(round(sector_temp[col_vol_change].mean(),4))\n",
    "        price_change.append(round(sector_temp[col_price_change].mean(),4))\n",
    "   # sp500_sectors[col_weight]= sector_weight \n",
    "    sp500_by_sector[col_vol_change_new]=money_change\n",
    "    sp500_by_sector[col_price_change]=price_change"
   ]
  },
  {
   "cell_type": "code",
   "execution_count": 8,
   "id": "f06b5c55",
   "metadata": {},
   "outputs": [
    {
     "data": {
      "text/html": [
       "<div>\n",
       "<style scoped>\n",
       "    .dataframe tbody tr th:only-of-type {\n",
       "        vertical-align: middle;\n",
       "    }\n",
       "\n",
       "    .dataframe tbody tr th {\n",
       "        vertical-align: top;\n",
       "    }\n",
       "\n",
       "    .dataframe thead th {\n",
       "        text-align: right;\n",
       "    }\n",
       "</style>\n",
       "<table border=\"1\" class=\"dataframe\">\n",
       "  <thead>\n",
       "    <tr style=\"text-align: right;\">\n",
       "      <th></th>\n",
       "      <th>sector</th>\n",
       "      <th>2016Q3_weight</th>\n",
       "      <th>2016Q3_vol_change</th>\n",
       "      <th>2016Q3_price_change</th>\n",
       "      <th>2016Q4_weight</th>\n",
       "      <th>2016Q4_vol_change</th>\n",
       "      <th>2016Q4_price_change</th>\n",
       "      <th>2017Q1_weight</th>\n",
       "      <th>2017Q1_vol_change</th>\n",
       "      <th>2017Q1_price_change</th>\n",
       "      <th>...</th>\n",
       "      <th>2020Q1_price_change</th>\n",
       "      <th>2020Q2_weight</th>\n",
       "      <th>2020Q2_vol_change</th>\n",
       "      <th>2020Q2_price_change</th>\n",
       "      <th>2020Q3_weight</th>\n",
       "      <th>2020Q3_vol_change</th>\n",
       "      <th>2020Q3_price_change</th>\n",
       "      <th>2020Q4_weight</th>\n",
       "      <th>2020Q4_vol_change</th>\n",
       "      <th>2020Q4_price_change</th>\n",
       "    </tr>\n",
       "  </thead>\n",
       "  <tbody>\n",
       "    <tr>\n",
       "      <th>0</th>\n",
       "      <td>Health Care</td>\n",
       "      <td>0.1229</td>\n",
       "      <td>-0.1271</td>\n",
       "      <td>0.2375</td>\n",
       "      <td>0.1238</td>\n",
       "      <td>2.0215</td>\n",
       "      <td>-0.6598</td>\n",
       "      <td>0.1221</td>\n",
       "      <td>0.2293</td>\n",
       "      <td>1.0837</td>\n",
       "      <td>...</td>\n",
       "      <td>-1.1372</td>\n",
       "      <td>0.1075</td>\n",
       "      <td>1.4173</td>\n",
       "      <td>2.6820</td>\n",
       "      <td>0.0819</td>\n",
       "      <td>-1.3292</td>\n",
       "      <td>0.4267</td>\n",
       "      <td>0.1013</td>\n",
       "      <td>2.4944</td>\n",
       "      <td>1.2315</td>\n",
       "    </tr>\n",
       "    <tr>\n",
       "      <th>1</th>\n",
       "      <td>Industrials</td>\n",
       "      <td>0.1062</td>\n",
       "      <td>15.8936</td>\n",
       "      <td>0.5785</td>\n",
       "      <td>0.1035</td>\n",
       "      <td>1.5836</td>\n",
       "      <td>0.9896</td>\n",
       "      <td>0.1060</td>\n",
       "      <td>0.7172</td>\n",
       "      <td>0.4738</td>\n",
       "      <td>...</td>\n",
       "      <td>-2.9711</td>\n",
       "      <td>0.1221</td>\n",
       "      <td>8.1134</td>\n",
       "      <td>2.8247</td>\n",
       "      <td>0.0899</td>\n",
       "      <td>-1.4620</td>\n",
       "      <td>0.5015</td>\n",
       "      <td>0.0939</td>\n",
       "      <td>0.5400</td>\n",
       "      <td>1.8324</td>\n",
       "    </tr>\n",
       "    <tr>\n",
       "      <th>2</th>\n",
       "      <td>Consumer Discretionary</td>\n",
       "      <td>0.1419</td>\n",
       "      <td>-0.7597</td>\n",
       "      <td>0.6888</td>\n",
       "      <td>0.1390</td>\n",
       "      <td>1.7712</td>\n",
       "      <td>-0.1300</td>\n",
       "      <td>0.1387</td>\n",
       "      <td>0.4052</td>\n",
       "      <td>1.2670</td>\n",
       "      <td>...</td>\n",
       "      <td>-1.2900</td>\n",
       "      <td>0.1922</td>\n",
       "      <td>2.7273</td>\n",
       "      <td>11.9092</td>\n",
       "      <td>0.2676</td>\n",
       "      <td>22.3368</td>\n",
       "      <td>15.0498</td>\n",
       "      <td>0.2496</td>\n",
       "      <td>-1.8496</td>\n",
       "      <td>7.9471</td>\n",
       "    </tr>\n",
       "    <tr>\n",
       "      <th>3</th>\n",
       "      <td>Information Technology</td>\n",
       "      <td>0.1754</td>\n",
       "      <td>0.7882</td>\n",
       "      <td>2.7917</td>\n",
       "      <td>0.1750</td>\n",
       "      <td>3.1343</td>\n",
       "      <td>1.2888</td>\n",
       "      <td>0.1861</td>\n",
       "      <td>2.0802</td>\n",
       "      <td>2.4199</td>\n",
       "      <td>...</td>\n",
       "      <td>-3.0877</td>\n",
       "      <td>0.2364</td>\n",
       "      <td>-1.7307</td>\n",
       "      <td>8.6745</td>\n",
       "      <td>0.2766</td>\n",
       "      <td>8.4857</td>\n",
       "      <td>5.5181</td>\n",
       "      <td>0.2510</td>\n",
       "      <td>-2.0312</td>\n",
       "      <td>3.0791</td>\n",
       "    </tr>\n",
       "    <tr>\n",
       "      <th>4</th>\n",
       "      <td>Consumer Staples</td>\n",
       "      <td>0.0799</td>\n",
       "      <td>2.3926</td>\n",
       "      <td>-0.1737</td>\n",
       "      <td>0.0698</td>\n",
       "      <td>0.1734</td>\n",
       "      <td>-0.1603</td>\n",
       "      <td>0.0700</td>\n",
       "      <td>0.0757</td>\n",
       "      <td>0.3095</td>\n",
       "      <td>...</td>\n",
       "      <td>-0.6594</td>\n",
       "      <td>0.0473</td>\n",
       "      <td>-0.4217</td>\n",
       "      <td>0.5433</td>\n",
       "      <td>0.0396</td>\n",
       "      <td>-0.3767</td>\n",
       "      <td>0.3485</td>\n",
       "      <td>0.0410</td>\n",
       "      <td>0.1073</td>\n",
       "      <td>0.2220</td>\n",
       "    </tr>\n",
       "    <tr>\n",
       "      <th>5</th>\n",
       "      <td>Utilities</td>\n",
       "      <td>0.0318</td>\n",
       "      <td>-0.0627</td>\n",
       "      <td>-0.2307</td>\n",
       "      <td>0.0285</td>\n",
       "      <td>0.0506</td>\n",
       "      <td>-0.0157</td>\n",
       "      <td>0.0266</td>\n",
       "      <td>-0.1652</td>\n",
       "      <td>0.1787</td>\n",
       "      <td>...</td>\n",
       "      <td>-0.3947</td>\n",
       "      <td>0.0224</td>\n",
       "      <td>-0.4038</td>\n",
       "      <td>0.1525</td>\n",
       "      <td>0.0191</td>\n",
       "      <td>-0.1213</td>\n",
       "      <td>0.0608</td>\n",
       "      <td>0.0204</td>\n",
       "      <td>0.0935</td>\n",
       "      <td>0.1175</td>\n",
       "    </tr>\n",
       "    <tr>\n",
       "      <th>6</th>\n",
       "      <td>Financials</td>\n",
       "      <td>0.1122</td>\n",
       "      <td>-0.7877</td>\n",
       "      <td>1.0645</td>\n",
       "      <td>0.1395</td>\n",
       "      <td>5.9192</td>\n",
       "      <td>3.6637</td>\n",
       "      <td>0.1361</td>\n",
       "      <td>-0.2819</td>\n",
       "      <td>0.1086</td>\n",
       "      <td>...</td>\n",
       "      <td>-3.1050</td>\n",
       "      <td>0.0864</td>\n",
       "      <td>-0.2237</td>\n",
       "      <td>1.9113</td>\n",
       "      <td>0.0640</td>\n",
       "      <td>-1.3665</td>\n",
       "      <td>-0.0014</td>\n",
       "      <td>0.0727</td>\n",
       "      <td>0.9336</td>\n",
       "      <td>2.0010</td>\n",
       "    </tr>\n",
       "    <tr>\n",
       "      <th>7</th>\n",
       "      <td>Materials</td>\n",
       "      <td>0.0297</td>\n",
       "      <td>-0.1057</td>\n",
       "      <td>0.0770</td>\n",
       "      <td>0.0289</td>\n",
       "      <td>0.3377</td>\n",
       "      <td>0.2062</td>\n",
       "      <td>0.0299</td>\n",
       "      <td>0.1115</td>\n",
       "      <td>0.0714</td>\n",
       "      <td>...</td>\n",
       "      <td>-0.6669</td>\n",
       "      <td>0.0231</td>\n",
       "      <td>0.5170</td>\n",
       "      <td>0.7658</td>\n",
       "      <td>0.0190</td>\n",
       "      <td>-0.0697</td>\n",
       "      <td>0.2650</td>\n",
       "      <td>0.0214</td>\n",
       "      <td>0.2391</td>\n",
       "      <td>0.3834</td>\n",
       "    </tr>\n",
       "    <tr>\n",
       "      <th>8</th>\n",
       "      <td>Real Estate</td>\n",
       "      <td>0.0328</td>\n",
       "      <td>-0.0625</td>\n",
       "      <td>-0.1242</td>\n",
       "      <td>0.0310</td>\n",
       "      <td>0.2699</td>\n",
       "      <td>-0.0973</td>\n",
       "      <td>0.0299</td>\n",
       "      <td>-0.0019</td>\n",
       "      <td>0.0817</td>\n",
       "      <td>...</td>\n",
       "      <td>-0.4927</td>\n",
       "      <td>0.0258</td>\n",
       "      <td>0.1052</td>\n",
       "      <td>0.5051</td>\n",
       "      <td>0.0180</td>\n",
       "      <td>-0.4708</td>\n",
       "      <td>0.0066</td>\n",
       "      <td>0.0213</td>\n",
       "      <td>0.3285</td>\n",
       "      <td>0.1694</td>\n",
       "    </tr>\n",
       "    <tr>\n",
       "      <th>9</th>\n",
       "      <td>Energy</td>\n",
       "      <td>0.0604</td>\n",
       "      <td>-0.1123</td>\n",
       "      <td>0.3624</td>\n",
       "      <td>0.0537</td>\n",
       "      <td>0.0763</td>\n",
       "      <td>0.4549</td>\n",
       "      <td>0.0565</td>\n",
       "      <td>0.3212</td>\n",
       "      <td>-0.4459</td>\n",
       "      <td>...</td>\n",
       "      <td>-1.8593</td>\n",
       "      <td>0.0318</td>\n",
       "      <td>-0.1311</td>\n",
       "      <td>1.6523</td>\n",
       "      <td>0.0214</td>\n",
       "      <td>-0.6045</td>\n",
       "      <td>-0.4781</td>\n",
       "      <td>0.0263</td>\n",
       "      <td>0.5629</td>\n",
       "      <td>0.9138</td>\n",
       "    </tr>\n",
       "    <tr>\n",
       "      <th>10</th>\n",
       "      <td>Communication Services</td>\n",
       "      <td>0.1068</td>\n",
       "      <td>-0.9941</td>\n",
       "      <td>0.8932</td>\n",
       "      <td>0.1072</td>\n",
       "      <td>1.6076</td>\n",
       "      <td>0.0283</td>\n",
       "      <td>0.0982</td>\n",
       "      <td>-0.7182</td>\n",
       "      <td>0.9822</td>\n",
       "      <td>...</td>\n",
       "      <td>-1.6046</td>\n",
       "      <td>0.1049</td>\n",
       "      <td>0.6756</td>\n",
       "      <td>2.7856</td>\n",
       "      <td>0.1028</td>\n",
       "      <td>0.6742</td>\n",
       "      <td>1.0693</td>\n",
       "      <td>0.1012</td>\n",
       "      <td>-0.0780</td>\n",
       "      <td>1.3883</td>\n",
       "    </tr>\n",
       "  </tbody>\n",
       "</table>\n",
       "<p>11 rows × 55 columns</p>\n",
       "</div>"
      ],
      "text/plain": [
       "                    sector  2016Q3_weight  2016Q3_vol_change  \\\n",
       "0              Health Care         0.1229            -0.1271   \n",
       "1              Industrials         0.1062            15.8936   \n",
       "2   Consumer Discretionary         0.1419            -0.7597   \n",
       "3   Information Technology         0.1754             0.7882   \n",
       "4         Consumer Staples         0.0799             2.3926   \n",
       "5                Utilities         0.0318            -0.0627   \n",
       "6               Financials         0.1122            -0.7877   \n",
       "7                Materials         0.0297            -0.1057   \n",
       "8              Real Estate         0.0328            -0.0625   \n",
       "9                   Energy         0.0604            -0.1123   \n",
       "10  Communication Services         0.1068            -0.9941   \n",
       "\n",
       "    2016Q3_price_change  2016Q4_weight  2016Q4_vol_change  \\\n",
       "0                0.2375         0.1238             2.0215   \n",
       "1                0.5785         0.1035             1.5836   \n",
       "2                0.6888         0.1390             1.7712   \n",
       "3                2.7917         0.1750             3.1343   \n",
       "4               -0.1737         0.0698             0.1734   \n",
       "5               -0.2307         0.0285             0.0506   \n",
       "6                1.0645         0.1395             5.9192   \n",
       "7                0.0770         0.0289             0.3377   \n",
       "8               -0.1242         0.0310             0.2699   \n",
       "9                0.3624         0.0537             0.0763   \n",
       "10               0.8932         0.1072             1.6076   \n",
       "\n",
       "    2016Q4_price_change  2017Q1_weight  2017Q1_vol_change  \\\n",
       "0               -0.6598         0.1221             0.2293   \n",
       "1                0.9896         0.1060             0.7172   \n",
       "2               -0.1300         0.1387             0.4052   \n",
       "3                1.2888         0.1861             2.0802   \n",
       "4               -0.1603         0.0700             0.0757   \n",
       "5               -0.0157         0.0266            -0.1652   \n",
       "6                3.6637         0.1361            -0.2819   \n",
       "7                0.2062         0.0299             0.1115   \n",
       "8               -0.0973         0.0299            -0.0019   \n",
       "9                0.4549         0.0565             0.3212   \n",
       "10               0.0283         0.0982            -0.7182   \n",
       "\n",
       "    2017Q1_price_change  ...  2020Q1_price_change  2020Q2_weight  \\\n",
       "0                1.0837  ...              -1.1372         0.1075   \n",
       "1                0.4738  ...              -2.9711         0.1221   \n",
       "2                1.2670  ...              -1.2900         0.1922   \n",
       "3                2.4199  ...              -3.0877         0.2364   \n",
       "4                0.3095  ...              -0.6594         0.0473   \n",
       "5                0.1787  ...              -0.3947         0.0224   \n",
       "6                0.1086  ...              -3.1050         0.0864   \n",
       "7                0.0714  ...              -0.6669         0.0231   \n",
       "8                0.0817  ...              -0.4927         0.0258   \n",
       "9               -0.4459  ...              -1.8593         0.0318   \n",
       "10               0.9822  ...              -1.6046         0.1049   \n",
       "\n",
       "    2020Q2_vol_change  2020Q2_price_change  2020Q3_weight  2020Q3_vol_change  \\\n",
       "0              1.4173               2.6820         0.0819            -1.3292   \n",
       "1              8.1134               2.8247         0.0899            -1.4620   \n",
       "2              2.7273              11.9092         0.2676            22.3368   \n",
       "3             -1.7307               8.6745         0.2766             8.4857   \n",
       "4             -0.4217               0.5433         0.0396            -0.3767   \n",
       "5             -0.4038               0.1525         0.0191            -0.1213   \n",
       "6             -0.2237               1.9113         0.0640            -1.3665   \n",
       "7              0.5170               0.7658         0.0190            -0.0697   \n",
       "8              0.1052               0.5051         0.0180            -0.4708   \n",
       "9             -0.1311               1.6523         0.0214            -0.6045   \n",
       "10             0.6756               2.7856         0.1028             0.6742   \n",
       "\n",
       "    2020Q3_price_change  2020Q4_weight  2020Q4_vol_change  2020Q4_price_change  \n",
       "0                0.4267         0.1013             2.4944               1.2315  \n",
       "1                0.5015         0.0939             0.5400               1.8324  \n",
       "2               15.0498         0.2496            -1.8496               7.9471  \n",
       "3                5.5181         0.2510            -2.0312               3.0791  \n",
       "4                0.3485         0.0410             0.1073               0.2220  \n",
       "5                0.0608         0.0204             0.0935               0.1175  \n",
       "6               -0.0014         0.0727             0.9336               2.0010  \n",
       "7                0.2650         0.0214             0.2391               0.3834  \n",
       "8                0.0066         0.0213             0.3285               0.1694  \n",
       "9               -0.4781         0.0263             0.5629               0.9138  \n",
       "10               1.0693         0.1012            -0.0780               1.3883  \n",
       "\n",
       "[11 rows x 55 columns]"
      ]
     },
     "execution_count": 8,
     "metadata": {},
     "output_type": "execute_result"
    }
   ],
   "source": [
    "sp500_by_sector"
   ]
  },
  {
   "cell_type": "code",
   "execution_count": 32,
   "id": "2e88041c",
   "metadata": {},
   "outputs": [
    {
     "name": "stderr",
     "output_type": "stream",
     "text": [
      "C:\\Users\\Usuario\\AppData\\Local\\Temp/ipykernel_11380/1037167023.py:1: SettingWithCopyWarning: \n",
      "A value is trying to be set on a copy of a slice from a DataFrame\n",
      "\n",
      "See the caveats in the documentation: https://pandas.pydata.org/pandas-docs/stable/user_guide/indexing.html#returning-a-view-versus-a-copy\n",
      "  sp500_by_sector['2017Q2_vol_change'][3]=0\n",
      "C:\\Users\\Usuario\\AppData\\Local\\Temp/ipykernel_11380/1037167023.py:2: SettingWithCopyWarning: \n",
      "A value is trying to be set on a copy of a slice from a DataFrame\n",
      "\n",
      "See the caveats in the documentation: https://pandas.pydata.org/pandas-docs/stable/user_guide/indexing.html#returning-a-view-versus-a-copy\n",
      "  sp500_by_sector['2017Q2_vol_change'][3]=sp500_by_sector['2017Q2_vol_change'].mean()\n"
     ]
    }
   ],
   "source": [
    "#sp500_by_sector['2017Q2_vol_change'][3]=0\n",
    "#sp500_by_sector['2017Q2_vol_change'][3]=sp500_by_sector['2017Q2_vol_change'].mean()"
   ]
  },
  {
   "cell_type": "code",
   "execution_count": 9,
   "id": "c6e89034",
   "metadata": {},
   "outputs": [],
   "source": [
    "sp500_by_sector.to_csv('sp500_by_sector.csv')"
   ]
  },
  {
   "cell_type": "code",
   "execution_count": 20,
   "id": "205689e1",
   "metadata": {},
   "outputs": [
    {
     "name": "stderr",
     "output_type": "stream",
     "text": [
      "C:\\Users\\Usuario\\AppData\\Local\\Temp/ipykernel_11380/1458915932.py:1: FutureWarning: As the xlwt package is no longer maintained, the xlwt engine will be removed in a future version of pandas. This is the only engine in pandas that supports writing in the xls format. Install openpyxl and write to an xlsx file instead. You can set the option io.excel.xls.writer to 'xlwt' to silence this warning. While this option is deprecated and will also raise a warning, it can be globally set and the warning suppressed.\n",
      "  sp500_by_sector.to_excel('sp500_by_sector.xls')\n"
     ]
    }
   ],
   "source": [
    "sp500_by_sector.to_excel('sp500_by_sector.xls')"
   ]
  },
  {
   "cell_type": "code",
   "execution_count": 10,
   "id": "d736fe74",
   "metadata": {},
   "outputs": [],
   "source": [
    "sp500_by_sector = pd.read_csv('sp500_by_sector.csv')"
   ]
  },
  {
   "cell_type": "code",
   "execution_count": 11,
   "id": "0f6251fc",
   "metadata": {},
   "outputs": [],
   "source": [
    "sp500_by_sector=sp500_by_sector.drop(['Unnamed: 0'], axis=1)"
   ]
  },
  {
   "cell_type": "code",
   "execution_count": 12,
   "id": "45b5a5d3",
   "metadata": {},
   "outputs": [],
   "source": [
    "companies_distribution=sp500_companies.groupby(['sector']).size().reset_index(name='counts')"
   ]
  },
  {
   "cell_type": "code",
   "execution_count": 13,
   "id": "0fcada57",
   "metadata": {},
   "outputs": [],
   "source": [
    "import matplotlib.pyplot as plt\n",
    "import seaborn as sns\n",
    "%matplotlib inline"
   ]
  },
  {
   "cell_type": "code",
   "execution_count": 14,
   "id": "d61d6b7f",
   "metadata": {},
   "outputs": [
    {
     "data": {
      "image/png": "[encoded data removed]",
      "text/plain": [
       "<Figure size 432x288 with 1 Axes>"
      ]
     },
     "metadata": {
      "needs_background": "light"
     },
     "output_type": "display_data"
    }
   ],
   "source": [
    "sns.barplot(x=companies_distribution['sector'], y=companies_distribution['counts'], data=sp500_companies)\n",
    "plt.xticks(rotation='vertical')\n",
    "plt.ylabel('Number of companies')\n",
    "plt.show()"
   ]
  },
  {
   "cell_type": "code",
   "execution_count": 15,
   "id": "602df843",
   "metadata": {},
   "outputs": [
    {
     "data": {
      "image/png": "[encoded data removed]",
      "text/plain": [
       "<Figure size 432x288 with 1 Axes>"
      ]
     },
     "metadata": {
      "needs_background": "light"
     },
     "output_type": "display_data"
    }
   ],
   "source": [
    "sns.barplot(x=\"sector\", y=\"2017Q1_weight\", data=sp500_by_sector)\n",
    "plt.xticks(rotation='vertical')\n",
    "ax = plt.gca()\n",
    "plt.ylabel('2017Q1_weight (p.p.u.)')\n",
    "ax.set_ylim([0, 0.3])\n",
    "plt.show()"
   ]
  },
  {
   "cell_type": "code",
   "execution_count": 16,
   "id": "173a849a",
   "metadata": {},
   "outputs": [
    {
     "data": {
      "image/png": "[encoded data removed]",
      "text/plain": [
       "<Figure size 432x288 with 1 Axes>"
      ]
     },
     "metadata": {
      "needs_background": "light"
     },
     "output_type": "display_data"
    }
   ],
   "source": [
    "sns.barplot(x=\"sector\", y=\"2020Q1_weight\", data=sp500_by_sector)\n",
    "plt.xticks(rotation='vertical')\n",
    "ax = plt.gca()\n",
    "plt.ylabel('2020Q1_weight (p.p.u)')\n",
    "ax.set_ylim([0, 0.3])\n",
    "plt.show()"
   ]
  },
  {
   "cell_type": "code",
   "execution_count": 17,
   "id": "46aff9ff",
   "metadata": {},
   "outputs": [],
   "source": [
    "index=2\n",
    "corr=[]\n",
    "period=[]\n",
    "while index<(len(sp500_by_sector.columns)-4):\n",
    "    period.append(sp500_by_sector.columns[index]+' - '+sp500_by_sector.columns[index+4])\n",
    "    corr.append(sp500_by_sector[sp500_by_sector.columns[index]].corr(sp500_by_sector[sp500_by_sector.columns[index+4]]))\n",
    "    index+=3"
   ]
  },
  {
   "cell_type": "code",
   "execution_count": 18,
   "id": "20aa8692",
   "metadata": {},
   "outputs": [
    {
     "data": {
      "text/plain": [
       "[0.09422090017514775,\n",
       " 0.35657987000950603,\n",
       " 0.48104939264718455,\n",
       " 0.9188393752347017,\n",
       " -0.049189222853375264,\n",
       " 0.8119985764149674,\n",
       " 0.7253477387643472,\n",
       " -0.31694502660657686,\n",
       " -0.8277803851546837,\n",
       " 0.8316949572234618,\n",
       " -0.6088035300724706,\n",
       " -0.04972764882517147,\n",
       " 0.2872385710536288,\n",
       " 0.07821096795692803,\n",
       " 0.9890469805852238,\n",
       " 0.12305330597700388,\n",
       " 0.9362622584435953]"
      ]
     },
     "execution_count": 18,
     "metadata": {},
     "output_type": "execute_result"
    }
   ],
   "source": [
    "corr"
   ]
  },
  {
   "cell_type": "code",
   "execution_count": 19,
   "id": "4e6037b1",
   "metadata": {},
   "outputs": [
    {
     "data": {
      "image/png": "[encoded data removed]",
      "text/plain": [
       "<Figure size 432x288 with 1 Axes>"
      ]
     },
     "metadata": {
      "needs_background": "light"
     },
     "output_type": "display_data"
    }
   ],
   "source": [
    "sns.barplot(x=period, y=corr, data=sp500_by_sector)\n",
    "plt.xticks(rotation=90)\n",
    "ax = plt.gca()\n",
    "plt.ylabel('correlation')\n",
    "plt.show()"
   ]
  },
  {
   "cell_type": "code",
   "execution_count": 25,
   "id": "ce84e5b1",
   "metadata": {},
   "outputs": [
    {
     "name": "stderr",
     "output_type": "stream",
     "text": [
      "C:\\Users\\Usuario\\AppData\\Local\\Temp/ipykernel_11380/2833939416.py:1: SettingWithCopyWarning: \n",
      "A value is trying to be set on a copy of a slice from a DataFrame\n",
      "\n",
      "See the caveats in the documentation: https://pandas.pydata.org/pandas-docs/stable/user_guide/indexing.html#returning-a-view-versus-a-copy\n",
      "  sp500_by_sector['2017Q2_vol_change'][3]=sp500_by_sector['2017Q2_vol_change'][3]-1023\n"
     ]
    }
   ],
   "source": []
  },
  {
   "cell_type": "code",
   "execution_count": 26,
   "id": "e04927ea",
   "metadata": {},
   "outputs": [
    {
     "data": {
      "text/plain": [
       "0.88250000000005"
      ]
     },
     "execution_count": 26,
     "metadata": {},
     "output_type": "execute_result"
    }
   ],
   "source": [
    "sp500_by_sector['2017Q2_vol_change'][3]"
   ]
  },
  {
   "cell_type": "code",
   "execution_count": null,
   "id": "b4c70a23",
   "metadata": {},
   "outputs": [],
   "source": []
  },
  {
   "cell_type": "code",
   "execution_count": 56,
   "id": "572b30a6",
   "metadata": {},
   "outputs": [],
   "source": [
    "dummy = pd.DataFrame({'2017Q1_vol_change' : [],\n",
    "                        '2017Q2_vol_change' : [],\n",
    "                     '2017Q3_vol_change' : [],\n",
    "                     '2017Q4_vol_change' : [],\n",
    "                     '2018Q1_price_change' : []})"
   ]
  },
  {
   "cell_type": "code",
   "execution_count": 57,
   "id": "8c0721f9",
   "metadata": {},
   "outputs": [],
   "source": [
    "dummy['2017Q1_vol_change']=sp500_by_sector['2017Q1_vol_change']\n",
    "dummy['2017Q2_vol_change']=sp500_by_sector['2017Q2_vol_change']\n",
    "dummy['2017Q3_vol_change']=sp500_by_sector['2017Q3_vol_change']\n",
    "dummy['2017Q4_vol_change']=sp500_by_sector['2017Q4_vol_change']\n",
    "dummy['2018Q1_price_change']=sp500_by_sector['2018Q1_price_change']"
   ]
  },
  {
   "cell_type": "code",
   "execution_count": 58,
   "id": "75245491",
   "metadata": {},
   "outputs": [
    {
     "data": {
      "image/png": "[encoded data removed]",
      "text/plain": [
       "<Figure size 720x576 with 2 Axes>"
      ]
     },
     "metadata": {
      "needs_background": "light"
     },
     "output_type": "display_data"
    }
   ],
   "source": [
    "corr_matrix=dummy.corr(method='pearson')  # default\n",
    "fig, ax = plt.subplots(figsize=(10, 8))\n",
    "ax = sns.heatmap(corr_matrix, annot=True)\n",
    "plt.show()"
   ]
  },
  {
   "cell_type": "code",
   "execution_count": 59,
   "id": "3bef7243",
   "metadata": {},
   "outputs": [],
   "source": [
    "y = dummy['2018Q1_price_change']\n",
    "X = dummy.drop(['2018Q1_price_change'], axis=1)"
   ]
  },
  {
   "cell_type": "code",
   "execution_count": 60,
   "id": "8d989da4",
   "metadata": {},
   "outputs": [],
   "source": [
    "from sklearn.model_selection import train_test_split\n",
    "X_train, X_test, y_train, y_test = train_test_split(X, y, test_size=0.2, random_state=42)"
   ]
  },
  {
   "cell_type": "code",
   "execution_count": 61,
   "id": "ef2f382f",
   "metadata": {},
   "outputs": [],
   "source": [
    "import math\n",
    "from sklearn import linear_model\n",
    "from sklearn.linear_model import LinearRegression"
   ]
  },
  {
   "cell_type": "code",
   "execution_count": 62,
   "id": "f4cb51ee",
   "metadata": {},
   "outputs": [
    {
     "data": {
      "text/plain": [
       "0.9212179352077208"
      ]
     },
     "execution_count": 62,
     "metadata": {},
     "output_type": "execute_result"
    }
   ],
   "source": [
    "lm = LinearRegression()\n",
    "lm.fit(X_train,y_train)\n",
    "\n",
    "from sklearn.metrics import r2_score\n",
    "predictions = lm.predict(X_train)\n",
    "r2_score(y_train, predictions)"
   ]
  },
  {
   "cell_type": "code",
   "execution_count": null,
   "id": "3bbbe59d",
   "metadata": {},
   "outputs": [],
   "source": []
  },
  {
   "cell_type": "code",
   "execution_count": 35,
   "id": "b4c64589",
   "metadata": {},
   "outputs": [],
   "source": [
    "dummy = pd.DataFrame({'2018Q1_vol_change' : [],\n",
    "                        '2018Q2_vol_change' : [],\n",
    "                     '2018Q3_vol_change' : [],\n",
    "                     '2018Q4_vol_change' : [],\n",
    "                     '2019Q1_price_change' : []})"
   ]
  },
  {
   "cell_type": "code",
   "execution_count": 36,
   "id": "2653f0e2",
   "metadata": {},
   "outputs": [],
   "source": [
    "dummy['2018Q1_vol_change']=sp500_by_sector['2018Q1_vol_change']\n",
    "dummy['2018Q2_vol_change']=sp500_by_sector['2018Q2_vol_change']\n",
    "dummy['2018Q3_vol_change']=sp500_by_sector['2018Q3_vol_change']\n",
    "dummy['2018Q4_vol_change']=sp500_by_sector['2018Q4_vol_change']\n",
    "dummy['2019Q1_price_change']=sp500_by_sector['2019Q1_price_change']"
   ]
  },
  {
   "cell_type": "code",
   "execution_count": 37,
   "id": "04a4acbd",
   "metadata": {},
   "outputs": [
    {
     "data": {
      "image/png": "[encoded data removed]",
      "text/plain": [
       "<Figure size 720x576 with 2 Axes>"
      ]
     },
     "metadata": {
      "needs_background": "light"
     },
     "output_type": "display_data"
    }
   ],
   "source": [
    "corr_matrix=dummy.corr(method='pearson')  # default\n",
    "fig, ax = plt.subplots(figsize=(10, 8))\n",
    "ax = sns.heatmap(corr_matrix, annot=True)\n",
    "plt.show()"
   ]
  },
  {
   "cell_type": "code",
   "execution_count": 39,
   "id": "6a4fa5ae",
   "metadata": {},
   "outputs": [],
   "source": [
    "y = dummy['2019Q1_price_change']\n",
    "X = dummy.drop(['2019Q1_price_change'], axis=1)"
   ]
  },
  {
   "cell_type": "code",
   "execution_count": 42,
   "id": "b3671126",
   "metadata": {},
   "outputs": [],
   "source": [
    "X_train, X_test, y_train, y_test = train_test_split(X, y, test_size=0.2, random_state=42)"
   ]
  },
  {
   "cell_type": "code",
   "execution_count": 45,
   "id": "c56b59ce",
   "metadata": {},
   "outputs": [
    {
     "data": {
      "text/plain": [
       "0.9863294855861351"
      ]
     },
     "execution_count": 45,
     "metadata": {},
     "output_type": "execute_result"
    }
   ],
   "source": [
    "lm = LinearRegression()\n",
    "lm.fit(X_train,y_train)\n",
    "\n",
    "from sklearn.metrics import r2_score\n",
    "predictions = lm.predict(X_train)\n",
    "r2_score(y_train, predictions)"
   ]
  },
  {
   "cell_type": "code",
   "execution_count": 49,
   "id": "a5b2797c",
   "metadata": {},
   "outputs": [],
   "source": [
    "dummy = pd.DataFrame({'2019Q1_vol_change' : [],\n",
    "                        '2019Q2_vol_change' : [],\n",
    "                     '2019Q3_vol_change' : [],\n",
    "                     '2019Q4_vol_change' : [],\n",
    "                     '2020Q1_price_change' : []})"
   ]
  },
  {
   "cell_type": "code",
   "execution_count": 50,
   "id": "4ddaf921",
   "metadata": {},
   "outputs": [],
   "source": [
    "dummy['2019Q1_vol_change']=sp500_by_sector['2019Q1_vol_change']\n",
    "dummy['2019Q2_vol_change']=sp500_by_sector['2019Q2_vol_change']\n",
    "dummy['2019Q3_vol_change']=sp500_by_sector['2019Q3_vol_change']\n",
    "dummy['2019Q4_vol_change']=sp500_by_sector['2019Q4_vol_change']\n",
    "dummy['2020Q1_price_change']=sp500_by_sector['2020Q1_price_change']"
   ]
  },
  {
   "cell_type": "code",
   "execution_count": 51,
   "id": "1255b479",
   "metadata": {},
   "outputs": [
    {
     "data": {
      "image/png": "[encoded data removed]",
      "text/plain": [
       "<Figure size 720x576 with 2 Axes>"
      ]
     },
     "metadata": {
      "needs_background": "light"
     },
     "output_type": "display_data"
    }
   ],
   "source": [
    "corr_matrix=dummy.corr(method='pearson')  # default\n",
    "fig, ax = plt.subplots(figsize=(10, 8))\n",
    "ax = sns.heatmap(corr_matrix, annot=True)\n",
    "plt.show()"
   ]
  },
  {
   "cell_type": "code",
   "execution_count": 52,
   "id": "50d10567",
   "metadata": {},
   "outputs": [],
   "source": [
    "y = dummy['2020Q1_price_change']\n",
    "X = dummy.drop(['2020Q1_price_change'], axis=1)"
   ]
  },
  {
   "cell_type": "code",
   "execution_count": 54,
   "id": "7026f1ae",
   "metadata": {},
   "outputs": [],
   "source": [
    "from sklearn.model_selection import train_test_split\n",
    "X_train, X_test, y_train, y_test = train_test_split(X, y, test_size=0.2, random_state=42)"
   ]
  },
  {
   "cell_type": "code",
   "execution_count": 55,
   "id": "f2ffeb75",
   "metadata": {},
   "outputs": [
    {
     "data": {
      "text/plain": [
       "0.49906781969396996"
      ]
     },
     "execution_count": 55,
     "metadata": {},
     "output_type": "execute_result"
    }
   ],
   "source": [
    "lm = LinearRegression()\n",
    "lm.fit(X_train,y_train)\n",
    "\n",
    "from sklearn.metrics import r2_score\n",
    "predictions = lm.predict(X_train)\n",
    "r2_score(y_train, predictions)"
   ]
  },
  {
   "cell_type": "code",
   "execution_count": null,
   "id": "855afecd",
   "metadata": {},
   "outputs": [],
   "source": []
  },
  {
   "cell_type": "code",
   "execution_count": null,
   "id": "23861d61",
   "metadata": {},
   "outputs": [],
   "source": []
  },
  {
   "cell_type": "code",
   "execution_count": null,
   "id": "0107c0c2",
   "metadata": {},
   "outputs": [],
   "source": []
  }
 ],
 "metadata": {
  "kernelspec": {
   "display_name": "Python 3 (ipykernel)",
   "language": "python",
   "name": "python3"
  },
  "language_info": {
   "codemirror_mode": {
    "name": "ipython",
    "version": 3
   },
   "file_extension": ".py",
   "mimetype": "text/x-python",
   "name": "python",
   "nbconvert_exporter": "python",
   "pygments_lexer": "ipython3",
   "version": "3.9.7"
  }
 },
 "nbformat": 4,
 "nbformat_minor": 5
}
