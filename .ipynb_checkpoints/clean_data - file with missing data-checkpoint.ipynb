{
 "cells": [
  {
   "cell_type": "code",
   "execution_count": 1,
   "id": "06e787af",
   "metadata": {},
   "outputs": [],
   "source": [
    "import pandas as pd\n",
    "import numpy as np"
   ]
  },
  {
   "cell_type": "code",
   "execution_count": 2,
   "id": "14ffc38d",
   "metadata": {},
   "outputs": [],
   "source": [
    "quotes_all = pd.read_csv('american_markets_quotes.csv')"
   ]
  },
  {
   "cell_type": "code",
   "execution_count": 3,
   "id": "69d99323",
   "metadata": {},
   "outputs": [
    {
     "data": {
      "text/html": [
       "<div>\n",
       "<style scoped>\n",
       "    .dataframe tbody tr th:only-of-type {\n",
       "        vertical-align: middle;\n",
       "    }\n",
       "\n",
       "    .dataframe tbody tr th {\n",
       "        vertical-align: top;\n",
       "    }\n",
       "\n",
       "    .dataframe thead th {\n",
       "        text-align: right;\n",
       "    }\n",
       "</style>\n",
       "<table border=\"1\" class=\"dataframe\">\n",
       "  <thead>\n",
       "    <tr style=\"text-align: right;\">\n",
       "      <th></th>\n",
       "      <th>datetime</th>\n",
       "      <th>open_price</th>\n",
       "      <th>close_price</th>\n",
       "      <th>high_price</th>\n",
       "      <th>low_price</th>\n",
       "      <th>volume</th>\n",
       "      <th>symbol</th>\n",
       "    </tr>\n",
       "  </thead>\n",
       "  <tbody>\n",
       "    <tr>\n",
       "      <th>0</th>\n",
       "      <td>2016-02-16T00:00:00Z</td>\n",
       "      <td>36.72</td>\n",
       "      <td>37.08</td>\n",
       "      <td>37.17</td>\n",
       "      <td>36.4000</td>\n",
       "      <td>2903649</td>\n",
       "      <td>A</td>\n",
       "    </tr>\n",
       "    <tr>\n",
       "      <th>1</th>\n",
       "      <td>2016-02-17T00:00:00Z</td>\n",
       "      <td>35.22</td>\n",
       "      <td>37.87</td>\n",
       "      <td>38.13</td>\n",
       "      <td>34.7500</td>\n",
       "      <td>5382312</td>\n",
       "      <td>A</td>\n",
       "    </tr>\n",
       "    <tr>\n",
       "      <th>2</th>\n",
       "      <td>2016-02-18T00:00:00Z</td>\n",
       "      <td>37.73</td>\n",
       "      <td>37.19</td>\n",
       "      <td>37.96</td>\n",
       "      <td>37.0900</td>\n",
       "      <td>2231481</td>\n",
       "      <td>A</td>\n",
       "    </tr>\n",
       "    <tr>\n",
       "      <th>3</th>\n",
       "      <td>2016-02-19T00:00:00Z</td>\n",
       "      <td>36.90</td>\n",
       "      <td>37.44</td>\n",
       "      <td>37.60</td>\n",
       "      <td>36.8500</td>\n",
       "      <td>2339426</td>\n",
       "      <td>A</td>\n",
       "    </tr>\n",
       "    <tr>\n",
       "      <th>4</th>\n",
       "      <td>2016-02-22T00:00:00Z</td>\n",
       "      <td>37.82</td>\n",
       "      <td>38.03</td>\n",
       "      <td>38.19</td>\n",
       "      <td>37.7800</td>\n",
       "      <td>1792962</td>\n",
       "      <td>A</td>\n",
       "    </tr>\n",
       "    <tr>\n",
       "      <th>...</th>\n",
       "      <td>...</td>\n",
       "      <td>...</td>\n",
       "      <td>...</td>\n",
       "      <td>...</td>\n",
       "      <td>...</td>\n",
       "      <td>...</td>\n",
       "      <td>...</td>\n",
       "    </tr>\n",
       "    <tr>\n",
       "      <th>7801915</th>\n",
       "      <td>2021-02-08T00:00:00Z</td>\n",
       "      <td>19.28</td>\n",
       "      <td>19.99</td>\n",
       "      <td>20.47</td>\n",
       "      <td>19.2183</td>\n",
       "      <td>589014</td>\n",
       "      <td>ZYXI</td>\n",
       "    </tr>\n",
       "    <tr>\n",
       "      <th>7801916</th>\n",
       "      <td>2021-02-09T00:00:00Z</td>\n",
       "      <td>20.04</td>\n",
       "      <td>19.99</td>\n",
       "      <td>20.30</td>\n",
       "      <td>19.5000</td>\n",
       "      <td>300062</td>\n",
       "      <td>ZYXI</td>\n",
       "    </tr>\n",
       "    <tr>\n",
       "      <th>7801917</th>\n",
       "      <td>2021-02-10T00:00:00Z</td>\n",
       "      <td>20.45</td>\n",
       "      <td>19.51</td>\n",
       "      <td>20.53</td>\n",
       "      <td>19.0300</td>\n",
       "      <td>399141</td>\n",
       "      <td>ZYXI</td>\n",
       "    </tr>\n",
       "    <tr>\n",
       "      <th>7801918</th>\n",
       "      <td>2021-02-11T00:00:00Z</td>\n",
       "      <td>19.40</td>\n",
       "      <td>19.28</td>\n",
       "      <td>19.70</td>\n",
       "      <td>18.5201</td>\n",
       "      <td>322271</td>\n",
       "      <td>ZYXI</td>\n",
       "    </tr>\n",
       "    <tr>\n",
       "      <th>7801919</th>\n",
       "      <td>2021-02-12T00:00:00Z</td>\n",
       "      <td>19.17</td>\n",
       "      <td>19.45</td>\n",
       "      <td>19.69</td>\n",
       "      <td>18.8400</td>\n",
       "      <td>217695</td>\n",
       "      <td>ZYXI</td>\n",
       "    </tr>\n",
       "  </tbody>\n",
       "</table>\n",
       "<p>7801920 rows × 7 columns</p>\n",
       "</div>"
      ],
      "text/plain": [
       "                     datetime  open_price  close_price  high_price  low_price  \\\n",
       "0        2016-02-16T00:00:00Z       36.72        37.08       37.17    36.4000   \n",
       "1        2016-02-17T00:00:00Z       35.22        37.87       38.13    34.7500   \n",
       "2        2016-02-18T00:00:00Z       37.73        37.19       37.96    37.0900   \n",
       "3        2016-02-19T00:00:00Z       36.90        37.44       37.60    36.8500   \n",
       "4        2016-02-22T00:00:00Z       37.82        38.03       38.19    37.7800   \n",
       "...                       ...         ...          ...         ...        ...   \n",
       "7801915  2021-02-08T00:00:00Z       19.28        19.99       20.47    19.2183   \n",
       "7801916  2021-02-09T00:00:00Z       20.04        19.99       20.30    19.5000   \n",
       "7801917  2021-02-10T00:00:00Z       20.45        19.51       20.53    19.0300   \n",
       "7801918  2021-02-11T00:00:00Z       19.40        19.28       19.70    18.5201   \n",
       "7801919  2021-02-12T00:00:00Z       19.17        19.45       19.69    18.8400   \n",
       "\n",
       "          volume symbol  \n",
       "0        2903649      A  \n",
       "1        5382312      A  \n",
       "2        2231481      A  \n",
       "3        2339426      A  \n",
       "4        1792962      A  \n",
       "...          ...    ...  \n",
       "7801915   589014   ZYXI  \n",
       "7801916   300062   ZYXI  \n",
       "7801917   399141   ZYXI  \n",
       "7801918   322271   ZYXI  \n",
       "7801919   217695   ZYXI  \n",
       "\n",
       "[7801920 rows x 7 columns]"
      ]
     },
     "execution_count": 3,
     "metadata": {},
     "output_type": "execute_result"
    }
   ],
   "source": [
    "quotes_all"
   ]
  },
  {
   "cell_type": "code",
   "execution_count": 4,
   "id": "6ba5d8f4",
   "metadata": {},
   "outputs": [
    {
     "data": {
      "text/plain": [
       "datetime        object\n",
       "open_price     float64\n",
       "close_price    float64\n",
       "high_price     float64\n",
       "low_price      float64\n",
       "volume           int64\n",
       "symbol          object\n",
       "dtype: object"
      ]
     },
     "execution_count": 4,
     "metadata": {},
     "output_type": "execute_result"
    }
   ],
   "source": [
    "quotes_all.dtypes"
   ]
  },
  {
   "cell_type": "code",
   "execution_count": 5,
   "id": "5f552279",
   "metadata": {},
   "outputs": [
    {
     "data": {
      "text/plain": [
       "datetime       0\n",
       "open_price     0\n",
       "close_price    0\n",
       "high_price     0\n",
       "low_price      0\n",
       "volume         0\n",
       "symbol         0\n",
       "dtype: int64"
      ]
     },
     "execution_count": 5,
     "metadata": {},
     "output_type": "execute_result"
    }
   ],
   "source": [
    "quotes_all.isna().sum()"
   ]
  },
  {
   "cell_type": "code",
   "execution_count": 6,
   "id": "8bbcfb4e",
   "metadata": {},
   "outputs": [],
   "source": [
    "quotes_all = quotes_all.drop(['high_price','low_price'], axis=1)"
   ]
  },
  {
   "cell_type": "code",
   "execution_count": 7,
   "id": "150ebb00",
   "metadata": {},
   "outputs": [
    {
     "data": {
      "text/plain": [
       "6192"
      ]
     },
     "execution_count": 7,
     "metadata": {},
     "output_type": "execute_result"
    }
   ],
   "source": [
    "quotes_all['symbol'].nunique()"
   ]
  },
  {
   "cell_type": "code",
   "execution_count": 8,
   "id": "c06ee7f5",
   "metadata": {},
   "outputs": [],
   "source": [
    "sp500_companies= pd.read_csv('sp500_companies.csv')"
   ]
  },
  {
   "cell_type": "code",
   "execution_count": 9,
   "id": "a81c1e8d",
   "metadata": {},
   "outputs": [
    {
     "data": {
      "text/html": [
       "<div>\n",
       "<style scoped>\n",
       "    .dataframe tbody tr th:only-of-type {\n",
       "        vertical-align: middle;\n",
       "    }\n",
       "\n",
       "    .dataframe tbody tr th {\n",
       "        vertical-align: top;\n",
       "    }\n",
       "\n",
       "    .dataframe thead th {\n",
       "        text-align: right;\n",
       "    }\n",
       "</style>\n",
       "<table border=\"1\" class=\"dataframe\">\n",
       "  <thead>\n",
       "    <tr style=\"text-align: right;\">\n",
       "      <th></th>\n",
       "      <th>SYMBOL</th>\n",
       "      <th>COMPANY</th>\n",
       "      <th>SECTOR</th>\n",
       "      <th>SUB-INDUSTRY</th>\n",
       "    </tr>\n",
       "  </thead>\n",
       "  <tbody>\n",
       "    <tr>\n",
       "      <th>0</th>\n",
       "      <td>A</td>\n",
       "      <td>Agilent Technologies</td>\n",
       "      <td>Health Care</td>\n",
       "      <td>Health Care Equipment</td>\n",
       "    </tr>\n",
       "    <tr>\n",
       "      <th>1</th>\n",
       "      <td>AAL</td>\n",
       "      <td>American Airlines Group</td>\n",
       "      <td>Industrials</td>\n",
       "      <td>Airlines</td>\n",
       "    </tr>\n",
       "    <tr>\n",
       "      <th>2</th>\n",
       "      <td>AAP</td>\n",
       "      <td>Advance Auto Parts</td>\n",
       "      <td>Consumer Discretionary</td>\n",
       "      <td>Automotive Retail</td>\n",
       "    </tr>\n",
       "    <tr>\n",
       "      <th>3</th>\n",
       "      <td>AAPL</td>\n",
       "      <td>Apple</td>\n",
       "      <td>Information Technology</td>\n",
       "      <td>Technology Hardware, Storage &amp; Peripherals</td>\n",
       "    </tr>\n",
       "    <tr>\n",
       "      <th>4</th>\n",
       "      <td>ABBV</td>\n",
       "      <td>AbbVie</td>\n",
       "      <td>Health Care</td>\n",
       "      <td>Pharmaceuticals</td>\n",
       "    </tr>\n",
       "    <tr>\n",
       "      <th>...</th>\n",
       "      <td>...</td>\n",
       "      <td>...</td>\n",
       "      <td>...</td>\n",
       "      <td>...</td>\n",
       "    </tr>\n",
       "    <tr>\n",
       "      <th>500</th>\n",
       "      <td>YUM</td>\n",
       "      <td>Yum! Brands</td>\n",
       "      <td>Consumer Discretionary</td>\n",
       "      <td>Restaurants</td>\n",
       "    </tr>\n",
       "    <tr>\n",
       "      <th>501</th>\n",
       "      <td>ZBH</td>\n",
       "      <td>Zimmer Biomet</td>\n",
       "      <td>Health Care</td>\n",
       "      <td>Health Care Equipment</td>\n",
       "    </tr>\n",
       "    <tr>\n",
       "      <th>502</th>\n",
       "      <td>ZBRA</td>\n",
       "      <td>Zebra Technologies</td>\n",
       "      <td>Information Technology</td>\n",
       "      <td>Electronic Equipment &amp; Instruments</td>\n",
       "    </tr>\n",
       "    <tr>\n",
       "      <th>503</th>\n",
       "      <td>ZION</td>\n",
       "      <td>Zions Bancorp</td>\n",
       "      <td>Financials</td>\n",
       "      <td>Regional Banks</td>\n",
       "    </tr>\n",
       "    <tr>\n",
       "      <th>504</th>\n",
       "      <td>ZTS</td>\n",
       "      <td>Zoetis</td>\n",
       "      <td>Health Care</td>\n",
       "      <td>Pharmaceuticals</td>\n",
       "    </tr>\n",
       "  </tbody>\n",
       "</table>\n",
       "<p>505 rows × 4 columns</p>\n",
       "</div>"
      ],
      "text/plain": [
       "    SYMBOL                  COMPANY                  SECTOR  \\\n",
       "0        A     Agilent Technologies             Health Care   \n",
       "1      AAL  American Airlines Group             Industrials   \n",
       "2      AAP       Advance Auto Parts  Consumer Discretionary   \n",
       "3     AAPL                    Apple  Information Technology   \n",
       "4     ABBV                   AbbVie             Health Care   \n",
       "..     ...                      ...                     ...   \n",
       "500    YUM              Yum! Brands  Consumer Discretionary   \n",
       "501    ZBH            Zimmer Biomet             Health Care   \n",
       "502   ZBRA       Zebra Technologies  Information Technology   \n",
       "503   ZION            Zions Bancorp              Financials   \n",
       "504    ZTS                   Zoetis             Health Care   \n",
       "\n",
       "                                   SUB-INDUSTRY  \n",
       "0                         Health Care Equipment  \n",
       "1                                      Airlines  \n",
       "2                             Automotive Retail  \n",
       "3    Technology Hardware, Storage & Peripherals  \n",
       "4                               Pharmaceuticals  \n",
       "..                                          ...  \n",
       "500                                 Restaurants  \n",
       "501                       Health Care Equipment  \n",
       "502          Electronic Equipment & Instruments  \n",
       "503                              Regional Banks  \n",
       "504                             Pharmaceuticals  \n",
       "\n",
       "[505 rows x 4 columns]"
      ]
     },
     "execution_count": 9,
     "metadata": {},
     "output_type": "execute_result"
    }
   ],
   "source": [
    "sp500_companies"
   ]
  },
  {
   "cell_type": "code",
   "execution_count": 10,
   "id": "9c0dd336",
   "metadata": {},
   "outputs": [],
   "source": [
    "sp500_companies = sp500_companies.drop(['SUB-INDUSTRY'], axis=1)\n",
    "cols = []\n",
    "for i in range(len(sp500_companies.columns)):\n",
    "    cols.append(sp500_companies.columns[i].lower())\n",
    "sp500_companies.columns = cols"
   ]
  },
  {
   "cell_type": "code",
   "execution_count": 11,
   "id": "d41366ca",
   "metadata": {},
   "outputs": [
    {
     "data": {
      "text/plain": [
       "505"
      ]
     },
     "execution_count": 11,
     "metadata": {},
     "output_type": "execute_result"
    }
   ],
   "source": [
    "len(sp500_companies['symbol'])"
   ]
  },
  {
   "cell_type": "code",
   "execution_count": 12,
   "id": "67da54e3",
   "metadata": {},
   "outputs": [],
   "source": [
    "sp500_quotes=quotes_all[quotes_all['symbol'].isin(sp500_companies['symbol'])]"
   ]
  },
  {
   "cell_type": "code",
   "execution_count": 13,
   "id": "d8f35bfd",
   "metadata": {},
   "outputs": [
    {
     "data": {
      "text/html": [
       "<div>\n",
       "<style scoped>\n",
       "    .dataframe tbody tr th:only-of-type {\n",
       "        vertical-align: middle;\n",
       "    }\n",
       "\n",
       "    .dataframe tbody tr th {\n",
       "        vertical-align: top;\n",
       "    }\n",
       "\n",
       "    .dataframe thead th {\n",
       "        text-align: right;\n",
       "    }\n",
       "</style>\n",
       "<table border=\"1\" class=\"dataframe\">\n",
       "  <thead>\n",
       "    <tr style=\"text-align: right;\">\n",
       "      <th></th>\n",
       "      <th>datetime</th>\n",
       "      <th>open_price</th>\n",
       "      <th>close_price</th>\n",
       "      <th>volume</th>\n",
       "      <th>symbol</th>\n",
       "    </tr>\n",
       "  </thead>\n",
       "  <tbody>\n",
       "    <tr>\n",
       "      <th>0</th>\n",
       "      <td>2016-02-16T00:00:00Z</td>\n",
       "      <td>36.72</td>\n",
       "      <td>37.08</td>\n",
       "      <td>2903649</td>\n",
       "      <td>A</td>\n",
       "    </tr>\n",
       "    <tr>\n",
       "      <th>1</th>\n",
       "      <td>2016-02-17T00:00:00Z</td>\n",
       "      <td>35.22</td>\n",
       "      <td>37.87</td>\n",
       "      <td>5382312</td>\n",
       "      <td>A</td>\n",
       "    </tr>\n",
       "    <tr>\n",
       "      <th>2</th>\n",
       "      <td>2016-02-18T00:00:00Z</td>\n",
       "      <td>37.73</td>\n",
       "      <td>37.19</td>\n",
       "      <td>2231481</td>\n",
       "      <td>A</td>\n",
       "    </tr>\n",
       "    <tr>\n",
       "      <th>3</th>\n",
       "      <td>2016-02-19T00:00:00Z</td>\n",
       "      <td>36.90</td>\n",
       "      <td>37.44</td>\n",
       "      <td>2339426</td>\n",
       "      <td>A</td>\n",
       "    </tr>\n",
       "    <tr>\n",
       "      <th>4</th>\n",
       "      <td>2016-02-22T00:00:00Z</td>\n",
       "      <td>37.82</td>\n",
       "      <td>38.03</td>\n",
       "      <td>1792962</td>\n",
       "      <td>A</td>\n",
       "    </tr>\n",
       "    <tr>\n",
       "      <th>...</th>\n",
       "      <td>...</td>\n",
       "      <td>...</td>\n",
       "      <td>...</td>\n",
       "      <td>...</td>\n",
       "      <td>...</td>\n",
       "    </tr>\n",
       "    <tr>\n",
       "      <th>7794355</th>\n",
       "      <td>2021-02-08T00:00:00Z</td>\n",
       "      <td>160.40</td>\n",
       "      <td>160.02</td>\n",
       "      <td>1625162</td>\n",
       "      <td>ZTS</td>\n",
       "    </tr>\n",
       "    <tr>\n",
       "      <th>7794356</th>\n",
       "      <td>2021-02-09T00:00:00Z</td>\n",
       "      <td>159.81</td>\n",
       "      <td>159.83</td>\n",
       "      <td>1852838</td>\n",
       "      <td>ZTS</td>\n",
       "    </tr>\n",
       "    <tr>\n",
       "      <th>7794357</th>\n",
       "      <td>2021-02-10T00:00:00Z</td>\n",
       "      <td>161.25</td>\n",
       "      <td>160.62</td>\n",
       "      <td>1745976</td>\n",
       "      <td>ZTS</td>\n",
       "    </tr>\n",
       "    <tr>\n",
       "      <th>7794358</th>\n",
       "      <td>2021-02-11T00:00:00Z</td>\n",
       "      <td>161.15</td>\n",
       "      <td>164.44</td>\n",
       "      <td>1860345</td>\n",
       "      <td>ZTS</td>\n",
       "    </tr>\n",
       "    <tr>\n",
       "      <th>7794359</th>\n",
       "      <td>2021-02-12T00:00:00Z</td>\n",
       "      <td>163.61</td>\n",
       "      <td>166.71</td>\n",
       "      <td>2188658</td>\n",
       "      <td>ZTS</td>\n",
       "    </tr>\n",
       "  </tbody>\n",
       "</table>\n",
       "<p>628740 rows × 5 columns</p>\n",
       "</div>"
      ],
      "text/plain": [
       "                     datetime  open_price  close_price   volume symbol\n",
       "0        2016-02-16T00:00:00Z       36.72        37.08  2903649      A\n",
       "1        2016-02-17T00:00:00Z       35.22        37.87  5382312      A\n",
       "2        2016-02-18T00:00:00Z       37.73        37.19  2231481      A\n",
       "3        2016-02-19T00:00:00Z       36.90        37.44  2339426      A\n",
       "4        2016-02-22T00:00:00Z       37.82        38.03  1792962      A\n",
       "...                       ...         ...          ...      ...    ...\n",
       "7794355  2021-02-08T00:00:00Z      160.40       160.02  1625162    ZTS\n",
       "7794356  2021-02-09T00:00:00Z      159.81       159.83  1852838    ZTS\n",
       "7794357  2021-02-10T00:00:00Z      161.25       160.62  1745976    ZTS\n",
       "7794358  2021-02-11T00:00:00Z      161.15       164.44  1860345    ZTS\n",
       "7794359  2021-02-12T00:00:00Z      163.61       166.71  2188658    ZTS\n",
       "\n",
       "[628740 rows x 5 columns]"
      ]
     },
     "execution_count": 13,
     "metadata": {},
     "output_type": "execute_result"
    }
   ],
   "source": [
    "sp500_quotes"
   ]
  },
  {
   "cell_type": "code",
   "execution_count": 14,
   "id": "67064a2a",
   "metadata": {},
   "outputs": [
    {
     "data": {
      "text/plain": [
       "499"
      ]
     },
     "execution_count": 14,
     "metadata": {},
     "output_type": "execute_result"
    }
   ],
   "source": [
    "sp500_quotes['symbol'].nunique()"
   ]
  },
  {
   "cell_type": "code",
   "execution_count": 15,
   "id": "bcd00d2e",
   "metadata": {},
   "outputs": [],
   "source": [
    "symbols_sp500=sp500_companies['symbol'].tolist()\n",
    "symbols=(sp500_quotes['symbol'].unique()).tolist()"
   ]
  },
  {
   "cell_type": "code",
   "execution_count": 16,
   "id": "b6e3bbfc",
   "metadata": {},
   "outputs": [],
   "source": [
    "missing_companies=[]\n",
    "for i in range(len(symbols_sp500)):\n",
    "    if symbols_sp500[i] not in symbols:\n",
    "        missing_companies.append(symbols_sp500[i])"
   ]
  },
  {
   "cell_type": "code",
   "execution_count": 17,
   "id": "d3365f12",
   "metadata": {},
   "outputs": [
    {
     "data": {
      "text/plain": [
       "['BBWI', 'BF.B', 'BRK.B', 'CTRA', 'OGN', 'WTW']"
      ]
     },
     "execution_count": 17,
     "metadata": {},
     "output_type": "execute_result"
    }
   ],
   "source": [
    "missing_companies"
   ]
  },
  {
   "cell_type": "code",
   "execution_count": 18,
   "id": "e508db10",
   "metadata": {},
   "outputs": [
    {
     "data": {
      "text/html": [
       "<div>\n",
       "<style scoped>\n",
       "    .dataframe tbody tr th:only-of-type {\n",
       "        vertical-align: middle;\n",
       "    }\n",
       "\n",
       "    .dataframe tbody tr th {\n",
       "        vertical-align: top;\n",
       "    }\n",
       "\n",
       "    .dataframe thead th {\n",
       "        text-align: right;\n",
       "    }\n",
       "</style>\n",
       "<table border=\"1\" class=\"dataframe\">\n",
       "  <thead>\n",
       "    <tr style=\"text-align: right;\">\n",
       "      <th></th>\n",
       "      <th>symbol</th>\n",
       "      <th>company</th>\n",
       "      <th>sector</th>\n",
       "    </tr>\n",
       "  </thead>\n",
       "  <tbody>\n",
       "    <tr>\n",
       "      <th>56</th>\n",
       "      <td>BBWI</td>\n",
       "      <td>Bath &amp; Body Works</td>\n",
       "      <td>Consumer Discretionary</td>\n",
       "    </tr>\n",
       "    <tr>\n",
       "      <th>60</th>\n",
       "      <td>BF.B</td>\n",
       "      <td>Brown Forman</td>\n",
       "      <td>Consumer Staples</td>\n",
       "    </tr>\n",
       "    <tr>\n",
       "      <th>70</th>\n",
       "      <td>BRK.B</td>\n",
       "      <td>Berkshire Hathaway</td>\n",
       "      <td>Financials</td>\n",
       "    </tr>\n",
       "    <tr>\n",
       "      <th>119</th>\n",
       "      <td>CTRA</td>\n",
       "      <td>Coterra</td>\n",
       "      <td>Energy</td>\n",
       "    </tr>\n",
       "    <tr>\n",
       "      <th>348</th>\n",
       "      <td>OGN</td>\n",
       "      <td>Organon &amp; Co.</td>\n",
       "      <td>Health Care</td>\n",
       "    </tr>\n",
       "    <tr>\n",
       "      <th>492</th>\n",
       "      <td>WTW</td>\n",
       "      <td>Willis Towers Watson</td>\n",
       "      <td>Financials</td>\n",
       "    </tr>\n",
       "  </tbody>\n",
       "</table>\n",
       "</div>"
      ],
      "text/plain": [
       "    symbol               company                  sector\n",
       "56    BBWI     Bath & Body Works  Consumer Discretionary\n",
       "60    BF.B          Brown Forman        Consumer Staples\n",
       "70   BRK.B    Berkshire Hathaway              Financials\n",
       "119   CTRA               Coterra                  Energy\n",
       "348    OGN         Organon & Co.             Health Care\n",
       "492    WTW  Willis Towers Watson              Financials"
      ]
     },
     "execution_count": 18,
     "metadata": {},
     "output_type": "execute_result"
    }
   ],
   "source": [
    "sp500_companies[sp500_companies['symbol'].isin(missing_companies)]"
   ]
  },
  {
   "cell_type": "code",
   "execution_count": 19,
   "id": "82ac64b3",
   "metadata": {},
   "outputs": [],
   "source": [
    "sp500_weights= pd.read_csv('sp500_weights.csv')"
   ]
  },
  {
   "cell_type": "code",
   "execution_count": 20,
   "id": "3933fb04",
   "metadata": {},
   "outputs": [
    {
     "data": {
      "text/plain": [
       "505"
      ]
     },
     "execution_count": 20,
     "metadata": {},
     "output_type": "execute_result"
    }
   ],
   "source": [
    "sp500_weights['symbol'].nunique()"
   ]
  },
  {
   "cell_type": "code",
   "execution_count": 21,
   "id": "70bb72c8",
   "metadata": {},
   "outputs": [
    {
     "data": {
      "text/plain": [
       "99.99996100000001"
      ]
     },
     "execution_count": 21,
     "metadata": {},
     "output_type": "execute_result"
    }
   ],
   "source": [
    "sp500_weights['weight'].sum()"
   ]
  },
  {
   "cell_type": "code",
   "execution_count": 22,
   "id": "fbf39007",
   "metadata": {},
   "outputs": [],
   "source": [
    "symbols_sp500=sp500_companies['symbol'].tolist()\n",
    "symbols=(sp500_weights['symbol'].unique()).tolist()"
   ]
  },
  {
   "cell_type": "code",
   "execution_count": 23,
   "id": "8cb92ddf",
   "metadata": {},
   "outputs": [],
   "source": [
    "missing_companies=[]\n",
    "for i in range(len(symbols_sp500)):\n",
    "    if symbols_sp500[i] not in symbols:\n",
    "        missing_companies.append(symbols_sp500[i])"
   ]
  },
  {
   "cell_type": "code",
   "execution_count": 24,
   "id": "a169f442",
   "metadata": {},
   "outputs": [
    {
     "data": {
      "text/plain": [
       "[]"
      ]
     },
     "execution_count": 24,
     "metadata": {},
     "output_type": "execute_result"
    }
   ],
   "source": [
    "missing_companies"
   ]
  },
  {
   "cell_type": "code",
   "execution_count": 25,
   "id": "610ec297",
   "metadata": {},
   "outputs": [],
   "source": [
    "sp500=pd.merge(left =   sp500_quotes,\n",
    "                        right = sp500_companies,\n",
    "                        how = 'inner', \n",
    "                        left_on = \"symbol\", \n",
    "                        right_on= \"symbol\")"
   ]
  },
  {
   "cell_type": "code",
   "execution_count": 26,
   "id": "cb196c52",
   "metadata": {},
   "outputs": [
    {
     "data": {
      "text/html": [
       "<div>\n",
       "<style scoped>\n",
       "    .dataframe tbody tr th:only-of-type {\n",
       "        vertical-align: middle;\n",
       "    }\n",
       "\n",
       "    .dataframe tbody tr th {\n",
       "        vertical-align: top;\n",
       "    }\n",
       "\n",
       "    .dataframe thead th {\n",
       "        text-align: right;\n",
       "    }\n",
       "</style>\n",
       "<table border=\"1\" class=\"dataframe\">\n",
       "  <thead>\n",
       "    <tr style=\"text-align: right;\">\n",
       "      <th></th>\n",
       "      <th>datetime</th>\n",
       "      <th>open_price</th>\n",
       "      <th>close_price</th>\n",
       "      <th>volume</th>\n",
       "      <th>symbol</th>\n",
       "      <th>company</th>\n",
       "      <th>sector</th>\n",
       "    </tr>\n",
       "  </thead>\n",
       "  <tbody>\n",
       "    <tr>\n",
       "      <th>0</th>\n",
       "      <td>2016-02-16T00:00:00Z</td>\n",
       "      <td>36.72</td>\n",
       "      <td>37.08</td>\n",
       "      <td>2903649</td>\n",
       "      <td>A</td>\n",
       "      <td>Agilent Technologies</td>\n",
       "      <td>Health Care</td>\n",
       "    </tr>\n",
       "    <tr>\n",
       "      <th>1</th>\n",
       "      <td>2016-02-17T00:00:00Z</td>\n",
       "      <td>35.22</td>\n",
       "      <td>37.87</td>\n",
       "      <td>5382312</td>\n",
       "      <td>A</td>\n",
       "      <td>Agilent Technologies</td>\n",
       "      <td>Health Care</td>\n",
       "    </tr>\n",
       "    <tr>\n",
       "      <th>2</th>\n",
       "      <td>2016-02-18T00:00:00Z</td>\n",
       "      <td>37.73</td>\n",
       "      <td>37.19</td>\n",
       "      <td>2231481</td>\n",
       "      <td>A</td>\n",
       "      <td>Agilent Technologies</td>\n",
       "      <td>Health Care</td>\n",
       "    </tr>\n",
       "    <tr>\n",
       "      <th>3</th>\n",
       "      <td>2016-02-19T00:00:00Z</td>\n",
       "      <td>36.90</td>\n",
       "      <td>37.44</td>\n",
       "      <td>2339426</td>\n",
       "      <td>A</td>\n",
       "      <td>Agilent Technologies</td>\n",
       "      <td>Health Care</td>\n",
       "    </tr>\n",
       "    <tr>\n",
       "      <th>4</th>\n",
       "      <td>2016-02-22T00:00:00Z</td>\n",
       "      <td>37.82</td>\n",
       "      <td>38.03</td>\n",
       "      <td>1792962</td>\n",
       "      <td>A</td>\n",
       "      <td>Agilent Technologies</td>\n",
       "      <td>Health Care</td>\n",
       "    </tr>\n",
       "    <tr>\n",
       "      <th>...</th>\n",
       "      <td>...</td>\n",
       "      <td>...</td>\n",
       "      <td>...</td>\n",
       "      <td>...</td>\n",
       "      <td>...</td>\n",
       "      <td>...</td>\n",
       "      <td>...</td>\n",
       "    </tr>\n",
       "    <tr>\n",
       "      <th>628735</th>\n",
       "      <td>2021-02-08T00:00:00Z</td>\n",
       "      <td>160.40</td>\n",
       "      <td>160.02</td>\n",
       "      <td>1625162</td>\n",
       "      <td>ZTS</td>\n",
       "      <td>Zoetis</td>\n",
       "      <td>Health Care</td>\n",
       "    </tr>\n",
       "    <tr>\n",
       "      <th>628736</th>\n",
       "      <td>2021-02-09T00:00:00Z</td>\n",
       "      <td>159.81</td>\n",
       "      <td>159.83</td>\n",
       "      <td>1852838</td>\n",
       "      <td>ZTS</td>\n",
       "      <td>Zoetis</td>\n",
       "      <td>Health Care</td>\n",
       "    </tr>\n",
       "    <tr>\n",
       "      <th>628737</th>\n",
       "      <td>2021-02-10T00:00:00Z</td>\n",
       "      <td>161.25</td>\n",
       "      <td>160.62</td>\n",
       "      <td>1745976</td>\n",
       "      <td>ZTS</td>\n",
       "      <td>Zoetis</td>\n",
       "      <td>Health Care</td>\n",
       "    </tr>\n",
       "    <tr>\n",
       "      <th>628738</th>\n",
       "      <td>2021-02-11T00:00:00Z</td>\n",
       "      <td>161.15</td>\n",
       "      <td>164.44</td>\n",
       "      <td>1860345</td>\n",
       "      <td>ZTS</td>\n",
       "      <td>Zoetis</td>\n",
       "      <td>Health Care</td>\n",
       "    </tr>\n",
       "    <tr>\n",
       "      <th>628739</th>\n",
       "      <td>2021-02-12T00:00:00Z</td>\n",
       "      <td>163.61</td>\n",
       "      <td>166.71</td>\n",
       "      <td>2188658</td>\n",
       "      <td>ZTS</td>\n",
       "      <td>Zoetis</td>\n",
       "      <td>Health Care</td>\n",
       "    </tr>\n",
       "  </tbody>\n",
       "</table>\n",
       "<p>628740 rows × 7 columns</p>\n",
       "</div>"
      ],
      "text/plain": [
       "                    datetime  open_price  close_price   volume symbol  \\\n",
       "0       2016-02-16T00:00:00Z       36.72        37.08  2903649      A   \n",
       "1       2016-02-17T00:00:00Z       35.22        37.87  5382312      A   \n",
       "2       2016-02-18T00:00:00Z       37.73        37.19  2231481      A   \n",
       "3       2016-02-19T00:00:00Z       36.90        37.44  2339426      A   \n",
       "4       2016-02-22T00:00:00Z       37.82        38.03  1792962      A   \n",
       "...                      ...         ...          ...      ...    ...   \n",
       "628735  2021-02-08T00:00:00Z      160.40       160.02  1625162    ZTS   \n",
       "628736  2021-02-09T00:00:00Z      159.81       159.83  1852838    ZTS   \n",
       "628737  2021-02-10T00:00:00Z      161.25       160.62  1745976    ZTS   \n",
       "628738  2021-02-11T00:00:00Z      161.15       164.44  1860345    ZTS   \n",
       "628739  2021-02-12T00:00:00Z      163.61       166.71  2188658    ZTS   \n",
       "\n",
       "                     company       sector  \n",
       "0       Agilent Technologies  Health Care  \n",
       "1       Agilent Technologies  Health Care  \n",
       "2       Agilent Technologies  Health Care  \n",
       "3       Agilent Technologies  Health Care  \n",
       "4       Agilent Technologies  Health Care  \n",
       "...                      ...          ...  \n",
       "628735                Zoetis  Health Care  \n",
       "628736                Zoetis  Health Care  \n",
       "628737                Zoetis  Health Care  \n",
       "628738                Zoetis  Health Care  \n",
       "628739                Zoetis  Health Care  \n",
       "\n",
       "[628740 rows x 7 columns]"
      ]
     },
     "execution_count": 26,
     "metadata": {},
     "output_type": "execute_result"
    }
   ],
   "source": [
    "sp500"
   ]
  },
  {
   "cell_type": "code",
   "execution_count": null,
   "id": "9d8b1eaa",
   "metadata": {},
   "outputs": [],
   "source": []
  },
  {
   "cell_type": "code",
   "execution_count": 31,
   "id": "6274fd1e",
   "metadata": {},
   "outputs": [],
   "source": [
    "sp500=pd.merge(left =   sp500,\n",
    "                        right = sp500_weights,\n",
    "                        how = 'inner', \n",
    "                        left_on = \"symbol\", \n",
    "                        right_on= \"symbol\")"
   ]
  },
  {
   "cell_type": "code",
   "execution_count": 36,
   "id": "2ee0dcc5",
   "metadata": {},
   "outputs": [
    {
     "data": {
      "text/plain": [
       "array(['Agilent Technologies Inc.', 'American Airlines Group Inc.',\n",
       "       'Advance Auto Parts Inc.', 'Apple Inc.', 'AbbVie Inc.',\n",
       "       'AmerisourceBergen Corporation', 'ABIOMED Inc.',\n",
       "       'Abbott Laboratories', 'Accenture Plc Class A', 'Adobe Inc.',\n",
       "       'Analog Devices Inc.', 'Archer-Daniels-Midland Company',\n",
       "       'Automatic Data Processing Inc.', 'Autodesk Inc.',\n",
       "       'Ameren Corporation', 'American Electric Power Company Inc.',\n",
       "       'AES Corporation', 'Aflac Incorporated',\n",
       "       'American International Group Inc.', 'Assurant Inc.',\n",
       "       'Arthur J. Gallagher & Co.', 'Akamai Technologies Inc.',\n",
       "       'Albemarle Corporation', 'Align Technology Inc.',\n",
       "       'Alaska Air Group Inc.', 'Allstate Corporation', 'Allegion PLC',\n",
       "       'Applied Materials Inc.', 'Amcor PLC',\n",
       "       'Advanced Micro Devices Inc.', 'AMETEK Inc.', 'Amgen Inc.',\n",
       "       'Ameriprise Financial Inc.', 'American Tower Corporation',\n",
       "       'Amazon.com Inc.', 'Arista Networks Inc.', 'ANSYS Inc.',\n",
       "       'Anthem Inc.', 'Aon Plc Class A', 'A. O. Smith Corporation',\n",
       "       'APA Corp.', 'Air Products and Chemicals Inc.',\n",
       "       'Amphenol Corporation Class A', 'Aptiv PLC',\n",
       "       'Alexandria Real Estate Equities Inc.', 'Atmos Energy Corporation',\n",
       "       'Activision Blizzard Inc.', 'AvalonBay Communities Inc.',\n",
       "       'Broadcom Inc.', 'Avery Dennison Corporation',\n",
       "       'American Water Works Company Inc.', 'American Express Company',\n",
       "       'AutoZone Inc.', 'Boeing Company', 'Bank of America Corp',\n",
       "       'Baxter International Inc.', 'Best Buy Co. Inc.',\n",
       "       'Becton Dickinson and Company', 'Franklin Resources Inc.',\n",
       "       'Biogen Inc.', 'Bio-Rad Laboratories Inc. Class A',\n",
       "       'Bank of New York Mellon Corporation', 'Booking Holdings Inc.',\n",
       "       'Baker Hughes Company Class A', 'BlackRock Inc.',\n",
       "       'Ball Corporation', 'Bristol-Myers Squibb Company',\n",
       "       'Broadridge Financial Solutions Inc.', 'Brown & Brown Inc.',\n",
       "       'Boston Scientific Corporation', 'BorgWarner Inc.',\n",
       "       'Boston Properties Inc.', 'Citigroup Inc.', 'Conagra Brands Inc.',\n",
       "       'Cardinal Health Inc.', 'Carrier Global Corp.', 'Caterpillar Inc.',\n",
       "       'Chubb Limited', 'Cboe Global Markets Inc',\n",
       "       'CBRE Group Inc. Class A', 'Crown Castle International Corp',\n",
       "       'Carnival Corporation', 'Ceridian HCM Holding Inc.',\n",
       "       'Cadence Design Systems Inc.', 'CDW Corp.', 'Celanese Corporation',\n",
       "       'Cerner Corporation', 'CF Industries Holdings Inc.',\n",
       "       'Citizens Financial Group Inc.', 'Church & Dwight Co. Inc.',\n",
       "       'C.H. Robinson Worldwide Inc.',\n",
       "       'Charter Communications Inc. Class A', 'Cigna Corporation',\n",
       "       'Cincinnati Financial Corporation', 'Colgate-Palmolive Company',\n",
       "       'Clorox Company', 'Comerica Incorporated',\n",
       "       'Comcast Corporation Class A', 'CME Group Inc. Class A',\n",
       "       'Chipotle Mexican Grill Inc.', 'Cummins Inc.',\n",
       "       'CMS Energy Corporation', 'Centene Corporation',\n",
       "       'CenterPoint Energy Inc.', 'Capital One Financial Corporation',\n",
       "       'Cooper Companies Inc.', 'ConocoPhillips',\n",
       "       'Costco Wholesale Corporation', 'Campbell Soup Company',\n",
       "       'Copart Inc.', 'Charles River Laboratories International Inc.',\n",
       "       'salesforce.com inc.', 'Cisco Systems Inc.', 'CSX Corporation',\n",
       "       'Cintas Corporation', 'Catalent Inc',\n",
       "       'Cognizant Technology Solutions Corporation Class A',\n",
       "       'Corteva Inc', 'Citrix Systems Inc.', 'CVS Health Corporation',\n",
       "       'Chevron Corporation', 'Caesars Entertainment Inc',\n",
       "       'Dominion Energy Inc', 'Delta Air Lines Inc.',\n",
       "       'DuPont de Nemours Inc.', 'Deere & Company',\n",
       "       'Discover Financial Services', 'Dollar General Corporation',\n",
       "       'Quest Diagnostics Incorporated', 'D.R. Horton Inc.',\n",
       "       'Danaher Corporation', 'Walt Disney Company',\n",
       "       'Discovery Inc. Class A', 'Discovery Inc. Class C',\n",
       "       'DISH Network Corporation Class A', 'Digital Realty Trust Inc.',\n",
       "       'Dollar Tree Inc.', 'Dover Corporation', 'Dow Inc.',\n",
       "       \"Domino's Pizza Inc.\", 'Duke Realty Corporation',\n",
       "       'Darden Restaurants Inc.', 'DTE Energy Company',\n",
       "       'Duke Energy Corporation', 'DaVita Inc.',\n",
       "       'Devon Energy Corporation', 'DXC Technology Co.', 'DexCom Inc.',\n",
       "       'Electronic Arts Inc.', 'eBay Inc.', 'Ecolab Inc.',\n",
       "       'Consolidated Edison Inc.', 'Equifax Inc.', 'Edison International',\n",
       "       'Estee Lauder Companies Inc. Class A', 'Eastman Chemical Company',\n",
       "       'Emerson Electric Co.', 'Enphase Energy Inc.',\n",
       "       'EOG Resources Inc.', 'EPAM Systems Inc.', 'Equinix Inc.',\n",
       "       'Equity Residential', 'Eversource Energy',\n",
       "       'Essex Property Trust Inc.', 'Eaton Corp. Plc',\n",
       "       'Entergy Corporation', 'Etsy Inc.', 'Evergy Inc.',\n",
       "       'Edwards Lifesciences Corporation', 'Exelon Corporation',\n",
       "       'Expeditors International of Washington Inc.',\n",
       "       'Expedia Group Inc.', 'Extra Space Storage Inc.',\n",
       "       'Ford Motor Company', 'Diamondback Energy Inc.',\n",
       "       'Fastenal Company', 'Meta Platforms Inc. Class A',\n",
       "       'Fortune Brands Home & Security Inc.', 'Freeport-McMoRan Inc.',\n",
       "       'FactSet Research Systems Inc.', 'FedEx Corporation',\n",
       "       'FirstEnergy Corp.', 'F5 Inc.',\n",
       "       'Fidelity National Information Services Inc.', 'Fiserv Inc.',\n",
       "       'Fifth Third Bancorp', 'FLEETCOR Technologies Inc.',\n",
       "       'FMC Corporation', 'Fox Corporation Class B',\n",
       "       'Fox Corporation Class A', 'First Republic Bank',\n",
       "       'Federal Realty Investment Trust', 'Fortinet Inc.',\n",
       "       'Fortive Corp.', 'General Dynamics Corporation',\n",
       "       'General Electric Company', 'Gilead Sciences Inc.',\n",
       "       'General Mills Inc.', 'Globe Life Inc.', 'Corning Inc',\n",
       "       'General Motors Company', 'Generac Holdings Inc.',\n",
       "       'Alphabet Inc. Class C', 'Alphabet Inc. Class A',\n",
       "       'Genuine Parts Company', 'Global Payments Inc.', 'Gap Inc.',\n",
       "       'Garmin Ltd.', 'Goldman Sachs Group Inc.', 'W.W. Grainger Inc.',\n",
       "       'Halliburton Company', 'Hasbro Inc.',\n",
       "       'Huntington Bancshares Incorporated', 'HCA Healthcare Inc',\n",
       "       'Home Depot Inc.', 'Hess Corporation',\n",
       "       'Hartford Financial Services Group Inc.',\n",
       "       'Huntington Ingalls Industries Inc.',\n",
       "       'Hilton Worldwide Holdings Inc', 'Hologic Inc.',\n",
       "       'Honeywell International Inc.', 'Hewlett Packard Enterprise Co.',\n",
       "       'HP Inc.', 'Hormel Foods Corporation', 'Henry Schein Inc.',\n",
       "       'Host Hotels & Resorts Inc.', 'Hershey Company', 'Humana Inc.',\n",
       "       'Howmet Aerospace Inc.',\n",
       "       'International Business Machines Corporation',\n",
       "       'Intercontinental Exchange Inc.', 'IDEXX Laboratories Inc.',\n",
       "       'IDEX Corporation', 'International Flavors & Fragrances Inc.',\n",
       "       'Illumina Inc.', 'Incyte Corporation', 'IHS Markit Ltd.',\n",
       "       'Intel Corporation', 'Intuit Inc.', 'International Paper Company',\n",
       "       'Interpublic Group of Companies Inc.', 'IPG Photonics Corporation',\n",
       "       'IQVIA Holdings Inc', 'Ingersoll Rand Inc.', 'Iron Mountain Inc.',\n",
       "       'Intuitive Surgical Inc.', 'Gartner Inc.',\n",
       "       'Illinois Tool Works Inc.', 'Invesco Ltd.',\n",
       "       'Jacobs Engineering Group Inc.',\n",
       "       'J.B. Hunt Transport Services Inc.',\n",
       "       'Johnson Controls International plc',\n",
       "       'Jack Henry & Associates Inc.', 'Johnson & Johnson',\n",
       "       'Juniper Networks Inc.', 'JPMorgan Chase & Co.', 'Kellogg Company',\n",
       "       'KeyCorp', 'Keysight Technologies Inc', 'Kraft Heinz Company',\n",
       "       'Kimco Realty Corporation', 'KLA Corporation',\n",
       "       'Kimberly-Clark Corporation', 'Kinder Morgan Inc Class P',\n",
       "       'CarMax Inc.', 'Coca-Cola Company', 'Kroger Co.',\n",
       "       'Loews Corporation', 'Leidos Holdings Inc.',\n",
       "       'Lennar Corporation Class A',\n",
       "       'Laboratory Corporation of America Holdings',\n",
       "       'L3Harris Technologies Inc', 'Linde plc', 'LKQ Corporation',\n",
       "       'Eli Lilly and Company', 'Lockheed Martin Corporation',\n",
       "       'Lincoln National Corporation', 'Alliant Energy Corp',\n",
       "       \"Lowe's Companies Inc.\", 'Lam Research Corporation',\n",
       "       'Lumen Technologies Inc.', 'Southwest Airlines Co.',\n",
       "       'Las Vegas Sands Corp.', 'Lamb Weston Holdings Inc.',\n",
       "       'LyondellBasell Industries NV', 'Live Nation Entertainment Inc.',\n",
       "       'Mastercard Incorporated Class A',\n",
       "       'Mid-America Apartment Communities Inc.',\n",
       "       'Marriott International Inc. Class A', 'Masco Corporation',\n",
       "       \"McDonald's Corporation\", 'Microchip Technology Incorporated',\n",
       "       'McKesson Corporation', \"Moody's Corporation\",\n",
       "       'Mondelez International Inc. Class A', 'Medtronic Plc',\n",
       "       'MetLife Inc.', 'MGM Resorts International',\n",
       "       'Mohawk Industries Inc.', 'McCormick & Company Incorporated',\n",
       "       'MarketAxess Holdings Inc.', 'Martin Marietta Materials Inc.',\n",
       "       'Marsh & McLennan Companies Inc.', '3M Company',\n",
       "       'Monster Beverage Corporation', 'Altria Group Inc',\n",
       "       'Mosaic Company', 'Marathon Petroleum Corporation',\n",
       "       'Monolithic Power Systems Inc.', 'Merck & Co. Inc.',\n",
       "       'Moderna Inc.', 'Marathon Oil Corporation', 'Morgan Stanley',\n",
       "       'MSCI Inc. Class A', 'Microsoft Corporation',\n",
       "       'Motorola Solutions Inc.', 'M&T Bank Corporation',\n",
       "       'Match Group Inc.', 'Mettler-Toledo International Inc.',\n",
       "       'Micron Technology Inc.', 'Norwegian Cruise Line Holdings Ltd.',\n",
       "       'Nasdaq Inc.', 'NextEra Energy Inc.', 'Newmont Corporation',\n",
       "       'Netflix Inc.', 'NiSource Inc', 'NIKE Inc. Class B',\n",
       "       'NortonLifeLock Inc.', 'Nielsen Holdings Plc',\n",
       "       'Northrop Grumman Corporation', 'ServiceNow Inc.',\n",
       "       'NRG Energy Inc.', 'Norfolk Southern Corporation', 'NetApp Inc.',\n",
       "       'Northern Trust Corporation', 'Nucor Corporation',\n",
       "       'NVIDIA Corporation', 'NVR Inc.', 'Newell Brands Inc',\n",
       "       'News Corporation Class B', 'News Corporation Class A',\n",
       "       'NXP Semiconductors NV', 'Realty Income Corporation',\n",
       "       'Old Dominion Freight Line Inc.', 'ONEOK Inc.',\n",
       "       'Omnicom Group Inc', 'Oracle Corporation',\n",
       "       \"O'Reilly Automotive Inc.\", 'Otis Worldwide Corporation',\n",
       "       'Occidental Petroleum Corporation', 'Paycom Software Inc.',\n",
       "       'Paychex Inc.', \"People's United Financial Inc.\", 'PACCAR Inc',\n",
       "       'Healthpeak Properties Inc.',\n",
       "       'Public Service Enterprise Group Inc', 'Penn National Gaming Inc.',\n",
       "       'PepsiCo Inc.', 'Pfizer Inc.', 'Principal Financial Group Inc.',\n",
       "       'Procter & Gamble Company', 'Progressive Corporation',\n",
       "       'Parker-Hannifin Corporation', 'PulteGroup Inc.',\n",
       "       'Packaging Corporation of America', 'PerkinElmer Inc.',\n",
       "       'Prologis Inc.', 'Philip Morris International Inc.',\n",
       "       'PNC Financial Services Group Inc.', 'Pentair plc',\n",
       "       'Pinnacle West Capital Corporation', 'Pool Corporation',\n",
       "       'PPG Industries Inc.', 'PPL Corporation',\n",
       "       'Prudential Financial Inc.', 'Public Storage', 'Phillips 66',\n",
       "       'PTC Inc.', 'PVH Corp.', 'Quanta Services Inc.',\n",
       "       'Pioneer Natural Resources Company', 'PayPal Holdings Inc.',\n",
       "       'Qualcomm Inc', 'Qorvo Inc.', 'Royal Caribbean Group',\n",
       "       'Everest Re Group Ltd.', 'Regency Centers Corporation',\n",
       "       'Regeneron Pharmaceuticals Inc.', 'Regions Financial Corporation',\n",
       "       'Robert Half International Inc.', 'Raymond James Financial Inc.',\n",
       "       'Ralph Lauren Corporation Class A', 'ResMed Inc.',\n",
       "       'Rockwell Automation Inc.', 'Rollins Inc.',\n",
       "       'Roper Technologies Inc.', 'Ross Stores Inc.',\n",
       "       'Republic Services Inc.', 'Raytheon Technologies Corporation',\n",
       "       'SBA Communications Corp. Class A', 'Signature Bank',\n",
       "       'Starbucks Corporation', 'Charles Schwab Corporation',\n",
       "       'SolarEdge Technologies Inc.', 'Sealed Air Corporation',\n",
       "       'Sherwin-Williams Company', 'SVB Financial Group',\n",
       "       'J.M. Smucker Company', 'Schlumberger NV', 'Snap-on Incorporated',\n",
       "       'Synopsys Inc.', 'Southern Company', 'Simon Property Group Inc.',\n",
       "       'S&P Global Inc.', 'Sempra Energy', 'STERIS Plc',\n",
       "       'State Street Corporation', 'Seagate Technology Holdings PLC',\n",
       "       'Constellation Brands Inc. Class A', 'Stanley Black & Decker Inc.',\n",
       "       'Skyworks Solutions Inc.', 'Synchrony Financial',\n",
       "       'Stryker Corporation', 'Sysco Corporation', 'AT&T Inc.',\n",
       "       'Molson Coors Beverage Company Class B',\n",
       "       'TransDigm Group Incorporated',\n",
       "       'Teledyne Technologies Incorporated', 'Bio-Techne Corporation',\n",
       "       'TE Connectivity Ltd.', 'Teradyne Inc.',\n",
       "       'Truist Financial Corporation', 'Teleflex Incorporated',\n",
       "       'Target Corporation', 'TJX Companies Inc',\n",
       "       'Thermo Fisher Scientific Inc.', 'T-Mobile US Inc.',\n",
       "       'Tapestry Inc.', 'Trimble Inc.', 'T. Rowe Price Group',\n",
       "       'Travelers Companies Inc.', 'Tractor Supply Company', 'Tesla Inc',\n",
       "       'Tyson Foods Inc. Class A', 'Trane Technologies plc',\n",
       "       'Take-Two Interactive Software Inc.', 'Twitter Inc.',\n",
       "       'Texas Instruments Incorporated', 'Textron Inc.',\n",
       "       'Tyler Technologies Inc.', 'Under Armour Inc. Class C',\n",
       "       'Under Armour Inc. Class A', 'United Airlines Holdings Inc.',\n",
       "       'UDR Inc.', 'Universal Health Services Inc. Class B',\n",
       "       'Ulta Beauty Inc', 'UnitedHealth Group Incorporated',\n",
       "       'Union Pacific Corporation', 'United Parcel Service Inc. Class B',\n",
       "       'United Rentals Inc.', 'U.S. Bancorp', 'Visa Inc. Class A',\n",
       "       'V.F. Corporation', 'ViacomCBS Inc. Class B',\n",
       "       'Valero Energy Corporation', 'Vulcan Materials Company',\n",
       "       'Vornado Realty Trust', 'Verisk Analytics Inc', 'VeriSign Inc.',\n",
       "       'Vertex Pharmaceuticals Incorporated', 'Ventas Inc.',\n",
       "       'Viatris Inc.', 'Verizon Communications Inc.',\n",
       "       'Westinghouse Air Brake Technologies Corporation',\n",
       "       'Waters Corporation', 'Walgreens Boots Alliance Inc',\n",
       "       'Western Digital Corporation', 'WEC Energy Group Inc',\n",
       "       'Welltower Inc.', 'Wells Fargo & Company', 'Whirlpool Corporation',\n",
       "       'Waste Management Inc.', 'Williams Companies Inc.', 'Walmart Inc.',\n",
       "       'W. R. Berkley Corporation', 'WestRock Company',\n",
       "       'West Pharmaceutical Services Inc.', 'Weyerhaeuser Company',\n",
       "       'Wynn Resorts Limited', 'Xcel Energy Inc.', 'Xilinx Inc.',\n",
       "       'Exxon Mobil Corporation', 'DENTSPLY SIRONA Inc.', 'Xylem Inc.',\n",
       "       'Yum! Brands Inc.', 'Zimmer Biomet Holdings Inc.',\n",
       "       'Zebra Technologies Corporation Class A',\n",
       "       'Zions Bancorporation N.A.', 'Zoetis Inc. Class A'], dtype=object)"
      ]
     },
     "execution_count": 36,
     "metadata": {},
     "output_type": "execute_result"
    }
   ],
   "source": [
    "sp500['company_y'].unique()"
   ]
  },
  {
   "cell_type": "code",
   "execution_count": 34,
   "id": "13f329de",
   "metadata": {},
   "outputs": [
    {
     "data": {
      "text/plain": [
       "499"
      ]
     },
     "execution_count": 34,
     "metadata": {},
     "output_type": "execute_result"
    }
   ],
   "source": [
    "sp500['company_y'].nunique()"
   ]
  },
  {
   "cell_type": "code",
   "execution_count": 60,
   "id": "822d4970",
   "metadata": {},
   "outputs": [],
   "source": [
    "dates='2016-02-16T00:00:00Z'"
   ]
  },
  {
   "cell_type": "code",
   "execution_count": 63,
   "id": "29092a81",
   "metadata": {},
   "outputs": [],
   "source": [
    "def clean_dates (date):\n",
    "    a, b=date.split('T')\n",
    "    return a"
   ]
  },
  {
   "cell_type": "code",
   "execution_count": 64,
   "id": "590020a7",
   "metadata": {},
   "outputs": [
    {
     "data": {
      "text/plain": [
       "'2016-02-16'"
      ]
     },
     "execution_count": 64,
     "metadata": {},
     "output_type": "execute_result"
    }
   ],
   "source": [
    "data2="
   ]
  },
  {
   "cell_type": "code",
   "execution_count": 27,
   "id": "7db13f17",
   "metadata": {},
   "outputs": [
    {
     "data": {
      "text/plain": [
       "'2016-02-16'"
      ]
     },
     "execution_count": 27,
     "metadata": {},
     "output_type": "execute_result"
    }
   ],
   "source": [
    "a, b=time.split('T')\n",
    "a"
   ]
  },
  {
   "cell_type": "code",
   "execution_count": null,
   "id": "0155c67a",
   "metadata": {},
   "outputs": [],
   "source": []
  },
  {
   "cell_type": "code",
   "execution_count": 22,
   "id": "33a7afb3",
   "metadata": {},
   "outputs": [],
   "source": [
    "data5 = pd.to_datetime(data['datetime'], errors='coerce')"
   ]
  },
  {
   "cell_type": "code",
   "execution_count": 28,
   "id": "8ef6c3ee",
   "metadata": {},
   "outputs": [
    {
     "data": {
      "text/plain": [
       "datetime       0\n",
       "open_price     0\n",
       "close_price    0\n",
       "volume         0\n",
       "symbol         0\n",
       "dtype: int64"
      ]
     },
     "execution_count": 28,
     "metadata": {},
     "output_type": "execute_result"
    }
   ],
   "source": [
    "data.isna().sum()"
   ]
  },
  {
   "cell_type": "code",
   "execution_count": 24,
   "id": "aff7c13a",
   "metadata": {},
   "outputs": [
    {
     "data": {
      "text/plain": [
       "datetime        object\n",
       "open_price     float64\n",
       "close_price    float64\n",
       "volume           int64\n",
       "symbol          object\n",
       "dtype: object"
      ]
     },
     "execution_count": 24,
     "metadata": {},
     "output_type": "execute_result"
    }
   ],
   "source": [
    "data.dtypes"
   ]
  },
  {
   "cell_type": "code",
   "execution_count": 4,
   "id": "e59e8a62",
   "metadata": {},
   "outputs": [
    {
     "data": {
      "text/plain": [
       "Information Technology    75\n",
       "Industrials               73\n",
       "Financials                67\n",
       "Health Care               64\n",
       "Consumer Discretionary    61\n",
       "Consumer Staples          32\n",
       "Real Estate               29\n",
       "Utilities                 28\n",
       "Materials                 28\n",
       "Communication Services    27\n",
       "Energy                    21\n",
       "Name: SECTOR, dtype: int64"
      ]
     },
     "execution_count": 4,
     "metadata": {},
     "output_type": "execute_result"
    }
   ],
   "source": [
    "data4['SECTOR'].value_counts()"
   ]
  },
  {
   "cell_type": "code",
   "execution_count": 19,
   "id": "408f9066",
   "metadata": {},
   "outputs": [],
   "source": [
    "data3= pd.read_excel(\"SP_data_from_2020-01-01_to_2022-02-03.xlsx\", engine=\"openpyxl\")"
   ]
  },
  {
   "cell_type": "code",
   "execution_count": null,
   "id": "62703918",
   "metadata": {},
   "outputs": [],
   "source": []
  }
 ],
 "metadata": {
  "kernelspec": {
   "display_name": "Python 3 (ipykernel)",
   "language": "python",
   "name": "python3"
  },
  "language_info": {
   "codemirror_mode": {
    "name": "ipython",
    "version": 3
   },
   "file_extension": ".py",
   "mimetype": "text/x-python",
   "name": "python",
   "nbconvert_exporter": "python",
   "pygments_lexer": "ipython3",
   "version": "3.9.7"
  }
 },
 "nbformat": 4,
 "nbformat_minor": 5
}
